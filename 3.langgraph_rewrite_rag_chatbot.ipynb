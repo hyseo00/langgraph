{
 "cells": [
  {
   "cell_type": "markdown",
   "id": "fcaee648",
   "metadata": {},
   "source": [
    "https://langchain-ai.github.io/langgraph/tutorials/rag/langgraph_agentic_rag/"
   ]
  },
  {
   "cell_type": "code",
   "execution_count": 1,
   "id": "e5ab8d09",
   "metadata": {},
   "outputs": [
    {
     "data": {
      "text/plain": [
       "True"
      ]
     },
     "execution_count": 1,
     "metadata": {},
     "output_type": "execute_result"
    }
   ],
   "source": [
    "from dotenv import load_dotenv\n",
    "\n",
    "load_dotenv()"
   ]
  },
  {
   "cell_type": "code",
   "execution_count": 2,
   "id": "c6deb0bd",
   "metadata": {},
   "outputs": [],
   "source": [
    "from dotenv import load_dotenv\n",
    "from langchain_upstage import UpstageEmbeddings\n",
    "from langchain_chroma import Chroma\n",
    "\n",
    "embeddings = UpstageEmbeddings(model=\"solar-embedding-1-large\")\n",
    "\n",
    "vector_store = Chroma(collection_name=\"income_tax_collection\",\n",
    "                      embedding_function=embeddings,\n",
    "                      persist_directory=\"./income_tax_collection\")\n",
    "\n",
    "retriever = vector_store.as_retriever(search_kwargs={'k': 3})"
   ]
  },
  {
   "cell_type": "code",
   "execution_count": 3,
   "id": "f6f523cd",
   "metadata": {},
   "outputs": [
    {
     "data": {
      "text/plain": [
       "[Document(id='c7dd2fe8-b674-487f-ae1d-2d11d3e809ea', metadata={'source': './documents/income_tax.txt'}, page_content='130만원 이하   \\n산출세액의 10분의 55 \\n130만원 초과   \\n71천원과 (130만원을 초과하는 금액의 10분의 30)  \\n\\n② 제1항에 대하여 공제받는 다음 각 호의 계산에 따른 금액을 초과하는 경우에 초과하는 금액은 없는 것으로 한다. <신설 2014. 1. 1., 2015. 5. 13., 2022. 12. 31.>\\n1. 총급여액이 3천만원 이하인 경우: 74천원 = (총급여액 - 300만원) × 8/1000. 단, 위 금액은 적은 경우 6천원으로 한다.\\n2. 총급여액이 3천만원 초과 7천만원 이하인 경우: 66천원 = (총급여액 - 7천만원) × 1/2. 단, 위 금액이 50만원보다 적은 경우에는 50만원으로 한다.\\n3. 총급여액이 1억원 미만일 경우에는 경우: 50만원 = (총급여액 - 1억원) × 1/2. 단, 위 금액이 20만원보다 적은 경우에는 20만원으로 한다.\\n4. 일금공로자의 근로소득에 대해 제134조제3항에 대한 원천징수를 하는 경우에는 해도 근로소득에 대한 산출세액의 100세 50에 해당하는 금액은 그 산출세액에 적용된다. <개정 2014. 1. 1.>\\n[전문개정 2021. 1.]  \\n제59조2의2(자산세예고제)\\n① 종합소득에 있는 거주자이기 근로제대상자에 해당하는 자녀(입장 및 위탁아동을 포함하며, 이하 이 조에서 \"공제대상자\"라 한다) 및 소득세법 제57조 이상의 사례에 대해서는 다음 각 호의 구분에 따른 금액을 종합소득세법에 공제받는다. <개정 2015. 5. 13., 2017. 12. 31., 2018. 12. 19., 2019. 12. 31., 2022. 12. 31., 2023. 12. 31.>  \\n\\n1명인 경우: 연 15만원\\n2명인 경우: 연 35만원\\n3명 이상인 경우: 연 35만원과 2명을 초과하는 1명당 연 30만원을 합한 금액\\n③ 삭제: 2017. 12. 19.\\n④ 해당 과세기간에 출산하거나 입양 신고한 경우 각 호의 구분에 따른 금액을 공통적으로 환산특수산출세액에 세액해당. <신설 2015. 5. 13., 2016. 12. 20.>\\n출산하거나 입양 신고한 공제대상자녀가 첫째인 경우: 연 30만원\\n출산하거나 입양 신고한 공제대상자녀가 둘째인 경우: 연 50만원\\n출산하거나 입양 신고한 공제대상자녀가 셋째 이상인 경우: 연 70만원\\n④ 제1항 및 제3항에 따른 공제는 \"자녀세액공제\"라 한다. <신설 2015. 5. 13., 2017. 12. 19.>\\n[본조신설 2014. 1. 1.]\\n[중전 제59조의2는 제59조의3으로 이동 <2014. 1. 1.>]'),\n",
       " Document(id='34835626-7609-4452-8dd4-1a48ae22e99c', metadata={'source': './documents/income_tax.txt'}, page_content='[전문개정 2009. 12. 31.]\\n제47조 근로소득증제 - 연금소득증제 및 퇴직소득증제\\n<개정> 2009. 12. 31.  \\n제48조(근로소득증제)\\n근로소득이 있는 거주자에 대해서는 해당 과세기간에 받는 총급여액에 다음의 금액을 공제한다. 다만, 공제액이 2천만원을 초과하는 경우에는 2천만원을 공제한다. <개정> 2012. 1. 1, 2014. 1. 1, 2019. 12. 31.\\n소득세법\\n총급여액 | 공제액\\n--- | ---\\n500만원 이하 | 총 급여액의 100분의 70\\n500만원 초과 1천500만원 이하 | 350만원+(500만원을 초과하는 금액의 100분의 40)\\n1천500만원 초과 4천500만원 이하 | 750만원+(1천500만원을 초과하는 금액의 100분의 15)\\n4천500만원 초과 1억원 이하 | 1천200만원+(4천500만원을 초과하는 금액의 100분의 5)\\n1억원 초과 | 1천475만원+(1억원을 초과하는 금액의 100분의 2)\\n② 일용근로소득에 대한 공제액은 제1항에도 불구하고 1인 15만원으로 한다. <개정 2018. 12. 31.>\\n③ 근로소득이 있는 거주자의 해악 과세기간의 총급여액에 제1항 또는 제2항의 규정에 미달하는 경우에는 그 총급여액을 공제액으로 한다.\\n④ 제1항부터 제3항까지의 규정에 따른 공제를 “근로소득공제”라 한다.\\n⑤ 제1항의 경우에 2인 이상의 근로소득을 받은 사람(일용근로자는 제외한다)에 대하여는 그 근로소득의 합계액을 총급여액으로 하여 제1항에 따른 근로소득공제를 총급여액에서 공제한다. <개정 2010. 12. 27.>\\n[전문 개정 2009. 12. 31.]\\n제47조2(연금소득공제)\\n① 연금소득이 있는 거주자에 대해서는 해당 과세기간에 받은 총연금액(분리과세연금소득)은 제1항에 이어 항에 갈치에 다음 표에 규정된 금액을 공제한다. 다만, 공제액이 900만원을 초과하는 경우에는 900만원을 공제한다. <개정 2013. 1. 1.>\\n총급여액 | 공제액\\n--- | ---\\n350만원 이하 | 총급여액\\n350만원 초과 700만원 이하 | 350만원+(350만원을 초과하는 금액의 100분의 40)\\n700만원 초과 1천만원 이하 | 630만원+(700만원을 초과하는 금액의 100분의 20)\\n1천만원 초과 | 1천100만원+(1천만원을 초과하는 금액의 100분의 10)\\n② 제1항에 따른 공제를 “연금소득공제”라 한다. [전문 개정 2009. 12. 31.]\\n제48조(퇴직소득공제)\\n① 퇴직소득이 있는 거주자에 대해서는 해당 과세기간의 퇴직소득금액에서 제1호의 구분에 따른 금액을 공제하며, 그 금액은 근속년수(1년 미만이 있는 경우에는 이를 1로 보며, 제22조제1항제1호의 경우에는 대칭범위으로 정하는 방법에 따라 산출한 연수를 판단한다. 이하 같다면 나누고 12를 곱한 후의 금액(이하 이 항에서 “산출근거”라 한다)에 제2호의 구분에 따른 금액을 공제한다. <개정 2014. 12. 23., 2022. 12. 31.>\\n1. 근속연수에 따라 정한 다음의 금액\\n근속연수 | 공제액\\n--- | ---'),\n",
       " Document(id='ff514829-a4e3-447f-8bd5-007549c39a6f', metadata={'source': './documents/income_tax.txt'}, page_content='② 제70조제1항, 제70조의2에 따른 제74조에 따라 차례로 할 것이 제70조제1항제2호에 따르며 서류를 제출하여야 한다는 경우에는 기준소득 중 거주자 본인이 된다(분산)과 제70조제2와 제74조에 따른 제료 및 제대법을 포함한다. 단, 차별제표청정인 그 업체를 남겨 제출한 경우로 그에 대하여 아니하다.<개정 2013. 1. 1.>\\n  ③ 제80조에 따른 수익과 관련의 경우에는 기초공제 중 거주자 본인이 된다(분산)과 그에 관한 적지사항을 분명히 한다.\\n[전문개정 2009. 12. 31.]\\n[제목개정 2014. 1. 1.]\\n제54조의2(공동사업에 대한 소득공제 등 특례) 제51조의3 또는 「조세특례제한법」에 따른 소득공제를 적용하거나 제59조의2에 따른 세액감면을 적용하는 경우 제54조제3항에 따라 공동사업자의 소득에 합산과세되는 특별세액거래의 지출․납입․투자 등의 금액이 있을 경우 주된 공동사업자의 소득에 합산과세되는 소득금액에 합산되어 주된 공동사업자의 합산과세세액은 공동사업소득액 또는 공동사업창출세액을 계산할 때 소득공제 또는 세액공제를 받을 수 있다. \\n[개정 2014. 1. 1.]\\n[전문개정 2009. 12. 31.]\\n[제목개정 2014. 1. 1.]\\n제2절 세액의 계산 <개정 2009. 12. 31.>\\n제1관 세율 <개정 2009. 12. 31.>\\n제55조(세율) 거주자의 종합소득에 대한 소득세는 해당 연도의 종합소득과세표준에 다음의 세율을 적용하여 계산한 금액(이하 \"종합소득과세표준세액\"이라 한다)을 그 세액으로 한다. <개정 2014. 1. 1., 2016. 12. 20., 2017. 12. 19., 2020. 12. 29., 2022. 12. 31.>\\n종합소득\\n┌───────────────┐\\n│ 과세표준의 6개 구간 │\\n├───────────────┤\\n│ 1,400만원 이하        │ 84만원  │\\n│ 1,400만원 초과        │ 84만원 + (5,000만원을 초과하는 금액의 24%)  │\\n│ 8,800만원 이하        │ 624만원 + (5,000만원을 초과하는 금액의 24%)  │\\n│ 8,800만원 초과        │ 1,536만원 + (8,800만원을 초과하는 금액의 35%)  │\\n│ 1.5억원 초과          │ 4,046만원 + (1,500만원을 초과하는 금액의 38%)  │\\n│ 3억원 초과            │ 6,460만원 + (3억원을 초과하는 금액의 40%)  │\\n│ 5억원 초과            │ 14,760만원 + (5억원을 초과하는 금액의 42%)  │\\n│ 10억원 초과           │ 38,406만원 + (10억원을 초과하는 금액의 45%)  │\\n└───────────────┘\\n② 거주자의 퇴직소득에 대한 소득세는 다음 각 호의 순서에 따라 계산한 금액(이하 ‘퇴직소득 산출세액’이라 한다)으로 한다. <개정 2013. 1. 1., 2014. 12. 23.>\\n1. 해당 과세기간의 퇴직소득과세표준 제1항의 세율을 적용하여 계산한 금액')]"
      ]
     },
     "execution_count": 3,
     "metadata": {},
     "output_type": "execute_result"
    }
   ],
   "source": [
    "query = \"연봉 5천만원 직장인의 소득세는?\"\n",
    "retriever.invoke(query)"
   ]
  },
  {
   "cell_type": "markdown",
   "id": "36dcd087",
   "metadata": {},
   "source": [
    "### 1. state, graph_builder 정의"
   ]
  },
  {
   "cell_type": "code",
   "execution_count": 4,
   "id": "d56dfd82",
   "metadata": {},
   "outputs": [],
   "source": [
    "# START -> retrieve -> generate -> END\n",
    "#       <- rewrite <-\n",
    "from typing_extensions import List, TypedDict\n",
    "from langchain_core.documents import Document\n",
    "from langgraph.graph import StateGraph\n",
    "\n",
    "class AgentState(TypedDict):\n",
    "    query: str\n",
    "    context: list[Document]\n",
    "    answer: str\n",
    "\n",
    "graph_builder = StateGraph(AgentState)"
   ]
  },
  {
   "cell_type": "markdown",
   "id": "ce409796",
   "metadata": {},
   "source": [
    "### 2. node에 들어갈 fucntion 정의"
   ]
  },
  {
   "cell_type": "code",
   "execution_count": 5,
   "id": "8d36597c",
   "metadata": {},
   "outputs": [],
   "source": [
    "\n",
    "def retrieve(state: AgentState) -> AgentState:\n",
    "    query = state['query']\n",
    "    docs = retriever.invoke(query)\n",
    "    print(docs)\n",
    "    return {'context': docs}"
   ]
  },
  {
   "cell_type": "code",
   "execution_count": 6,
   "id": "eae8180d",
   "metadata": {},
   "outputs": [
    {
     "name": "stderr",
     "output_type": "stream",
     "text": [
      "c:\\Users\\hyunseo\\Desktop\\learn_langgraph\\.venv\\Lib\\site-packages\\langsmith\\client.py:272: LangSmithMissingAPIKeyWarning: API key must be provided when using hosted LangSmith API\n",
      "  warnings.warn(\n"
     ]
    }
   ],
   "source": [
    "from langchain import hub\n",
    "from langchain_upstage import ChatUpstage\n",
    "from langchain_core.output_parsers import StrOutputParser\n",
    "\n",
    "llm = ChatUpstage()\n",
    "generate_prompt = hub.pull(\"rlm/rag-prompt\")\n",
    "\n",
    "def generate(state: AgentState) -> AgentState:\n",
    "    query = state['query']\n",
    "    context = state['context']\n",
    "    # 이곳에 StrOutputParser를 붙이지 않으면 rag_chain의 결과가 llm의 답변인 Message 객체가 됨\n",
    "    # 하지만 우리 state에서 'answer'의 type은 str이므로 str로 바꿔줘야함\n",
    "    # 여기서는 바꾸지 않아도 에러가 안나지만 에러가 날 때도 있다고 한다. 그건 나중에 공부해보자자\n",
    "    rag_chain = generate_prompt | llm | StrOutputParser()\n",
    "    response = rag_chain.invoke({'question': query, 'context': context})\n",
    "    return {'answer': response}"
   ]
  },
  {
   "cell_type": "code",
   "execution_count": 7,
   "id": "e748f446",
   "metadata": {},
   "outputs": [
    {
     "name": "stderr",
     "output_type": "stream",
     "text": [
      "c:\\Users\\hyunseo\\Desktop\\learn_langgraph\\.venv\\Lib\\site-packages\\langsmith\\client.py:272: LangSmithMissingAPIKeyWarning: API key must be provided when using hosted LangSmith API\n",
      "  warnings.warn(\n"
     ]
    }
   ],
   "source": [
    "from typing import Literal\n",
    "from langchain import hub\n",
    "\n",
    "doc_relevance_prompt = hub.pull(\"langchain-ai/rag-document-relevance\")\n",
    "\n",
    "def check_doc_relevance(state: AgentState) -> Literal['generate', 'rewrite']:\n",
    "    query = state['query']\n",
    "    context = state['context']\n",
    "    doc_relevance_chain = doc_relevance_prompt | llm\n",
    "    response = doc_relevance_chain.invoke({'question': query, 'documents': context})\n",
    "    print(context)\n",
    "    print(response)\n",
    "    if response['Score'] == 1:\n",
    "        return 'generate'\n",
    "    else:\n",
    "        return 'rewrite'"
   ]
  },
  {
   "cell_type": "code",
   "execution_count": 8,
   "id": "31ff134a",
   "metadata": {},
   "outputs": [],
   "source": [
    "from langchain_core.prompts import PromptTemplate\n",
    "from langchain_core.output_parsers import StrOutputParser\n",
    "\n",
    "keword_dictionary = ['사람과 관련된 표현 -> 거주자']\n",
    "\n",
    "rewrite_prompt = PromptTemplate.from_template(f\"\"\"\n",
    "    사용자의 질문을 보고, 우리의 사전을 참고해서 사용자의 질문을 변경해주세요 \n",
    "    사전: {keword_dictionary}                                           \n",
    "    질문: {{query}}\n",
    "    \"\"\"\n",
    ")\n",
    "\n",
    "def rewrite(state: AgentState) -> AgentState:\n",
    "    query = state['query']\n",
    "    rewrite_chain = rewrite_prompt | llm | StrOutputParser()\n",
    "    response = rewrite_chain.invoke({'query': query})\n",
    "    return {'query': query}"
   ]
  },
  {
   "cell_type": "code",
   "execution_count": null,
   "id": "905fc876",
   "metadata": {},
   "outputs": [],
   "source": [
    "from langgraph.graph import START, END\n",
    "\n",
    "graph_builder.add_node(\"retrieve\", retrieve)\n",
    "graph_builder.add_node(\"generate\", generate)\n",
    "graph_builder.add_node(\"rewrite\", rewrite)\n",
    "\n",
    "graph_builder.add_edge(START, \"retrieve\")\n",
    "graph_builder.add_conditional_edges(\"retrieve\", check_doc_relevance,\n",
    "    {\n",
    "        \"generate\": \"generate\",\n",
    "        \"rewrite\": \"rewrite\"\n",
    "    })\n",
    "graph_builder.add_edge(\"rewrite\", \"retrieve\")\n",
    "graph_builder.add_edge(\"generate\", END)\n",
    "\n",
    "graph = graph_builder.compile()"
   ]
  },
  {
   "cell_type": "code",
   "execution_count": 10,
   "id": "c0b95a83",
   "metadata": {},
   "outputs": [
    {
     "data": {
      "image/png": "[encoded data removed]",
      "text/plain": [
       "<IPython.core.display.Image object>"
      ]
     },
     "metadata": {},
     "output_type": "display_data"
    }
   ],
   "source": [
    "from IPython.display import Image, display\n",
    "\n",
    "graph = graph_builder.compile()\n",
    "\n",
    "display(Image(graph.get_graph().draw_mermaid_png()))"
   ]
  },
  {
   "cell_type": "code",
   "execution_count": 11,
   "id": "d3cf07c6",
   "metadata": {},
   "outputs": [
    {
     "name": "stdout",
     "output_type": "stream",
     "text": [
      "[Document(id='c7dd2fe8-b674-487f-ae1d-2d11d3e809ea', metadata={'source': './documents/income_tax.txt'}, page_content='130만원 이하   \\n산출세액의 10분의 55 \\n130만원 초과   \\n71천원과 (130만원을 초과하는 금액의 10분의 30)  \\n\\n② 제1항에 대하여 공제받는 다음 각 호의 계산에 따른 금액을 초과하는 경우에 초과하는 금액은 없는 것으로 한다. <신설 2014. 1. 1., 2015. 5. 13., 2022. 12. 31.>\\n1. 총급여액이 3천만원 이하인 경우: 74천원 = (총급여액 - 300만원) × 8/1000. 단, 위 금액은 적은 경우 6천원으로 한다.\\n2. 총급여액이 3천만원 초과 7천만원 이하인 경우: 66천원 = (총급여액 - 7천만원) × 1/2. 단, 위 금액이 50만원보다 적은 경우에는 50만원으로 한다.\\n3. 총급여액이 1억원 미만일 경우에는 경우: 50만원 = (총급여액 - 1억원) × 1/2. 단, 위 금액이 20만원보다 적은 경우에는 20만원으로 한다.\\n4. 일금공로자의 근로소득에 대해 제134조제3항에 대한 원천징수를 하는 경우에는 해도 근로소득에 대한 산출세액의 100세 50에 해당하는 금액은 그 산출세액에 적용된다. <개정 2014. 1. 1.>\\n[전문개정 2021. 1.]  \\n제59조2의2(자산세예고제)\\n① 종합소득에 있는 거주자이기 근로제대상자에 해당하는 자녀(입장 및 위탁아동을 포함하며, 이하 이 조에서 \"공제대상자\"라 한다) 및 소득세법 제57조 이상의 사례에 대해서는 다음 각 호의 구분에 따른 금액을 종합소득세법에 공제받는다. <개정 2015. 5. 13., 2017. 12. 31., 2018. 12. 19., 2019. 12. 31., 2022. 12. 31., 2023. 12. 31.>  \\n\\n1명인 경우: 연 15만원\\n2명인 경우: 연 35만원\\n3명 이상인 경우: 연 35만원과 2명을 초과하는 1명당 연 30만원을 합한 금액\\n③ 삭제: 2017. 12. 19.\\n④ 해당 과세기간에 출산하거나 입양 신고한 경우 각 호의 구분에 따른 금액을 공통적으로 환산특수산출세액에 세액해당. <신설 2015. 5. 13., 2016. 12. 20.>\\n출산하거나 입양 신고한 공제대상자녀가 첫째인 경우: 연 30만원\\n출산하거나 입양 신고한 공제대상자녀가 둘째인 경우: 연 50만원\\n출산하거나 입양 신고한 공제대상자녀가 셋째 이상인 경우: 연 70만원\\n④ 제1항 및 제3항에 따른 공제는 \"자녀세액공제\"라 한다. <신설 2015. 5. 13., 2017. 12. 19.>\\n[본조신설 2014. 1. 1.]\\n[중전 제59조의2는 제59조의3으로 이동 <2014. 1. 1.>]'), Document(id='34835626-7609-4452-8dd4-1a48ae22e99c', metadata={'source': './documents/income_tax.txt'}, page_content='[전문개정 2009. 12. 31.]\\n제47조 근로소득증제 - 연금소득증제 및 퇴직소득증제\\n<개정> 2009. 12. 31.  \\n제48조(근로소득증제)\\n근로소득이 있는 거주자에 대해서는 해당 과세기간에 받는 총급여액에 다음의 금액을 공제한다. 다만, 공제액이 2천만원을 초과하는 경우에는 2천만원을 공제한다. <개정> 2012. 1. 1, 2014. 1. 1, 2019. 12. 31.\\n소득세법\\n총급여액 | 공제액\\n--- | ---\\n500만원 이하 | 총 급여액의 100분의 70\\n500만원 초과 1천500만원 이하 | 350만원+(500만원을 초과하는 금액의 100분의 40)\\n1천500만원 초과 4천500만원 이하 | 750만원+(1천500만원을 초과하는 금액의 100분의 15)\\n4천500만원 초과 1억원 이하 | 1천200만원+(4천500만원을 초과하는 금액의 100분의 5)\\n1억원 초과 | 1천475만원+(1억원을 초과하는 금액의 100분의 2)\\n② 일용근로소득에 대한 공제액은 제1항에도 불구하고 1인 15만원으로 한다. <개정 2018. 12. 31.>\\n③ 근로소득이 있는 거주자의 해악 과세기간의 총급여액에 제1항 또는 제2항의 규정에 미달하는 경우에는 그 총급여액을 공제액으로 한다.\\n④ 제1항부터 제3항까지의 규정에 따른 공제를 “근로소득공제”라 한다.\\n⑤ 제1항의 경우에 2인 이상의 근로소득을 받은 사람(일용근로자는 제외한다)에 대하여는 그 근로소득의 합계액을 총급여액으로 하여 제1항에 따른 근로소득공제를 총급여액에서 공제한다. <개정 2010. 12. 27.>\\n[전문 개정 2009. 12. 31.]\\n제47조2(연금소득공제)\\n① 연금소득이 있는 거주자에 대해서는 해당 과세기간에 받은 총연금액(분리과세연금소득)은 제1항에 이어 항에 갈치에 다음 표에 규정된 금액을 공제한다. 다만, 공제액이 900만원을 초과하는 경우에는 900만원을 공제한다. <개정 2013. 1. 1.>\\n총급여액 | 공제액\\n--- | ---\\n350만원 이하 | 총급여액\\n350만원 초과 700만원 이하 | 350만원+(350만원을 초과하는 금액의 100분의 40)\\n700만원 초과 1천만원 이하 | 630만원+(700만원을 초과하는 금액의 100분의 20)\\n1천만원 초과 | 1천100만원+(1천만원을 초과하는 금액의 100분의 10)\\n② 제1항에 따른 공제를 “연금소득공제”라 한다. [전문 개정 2009. 12. 31.]\\n제48조(퇴직소득공제)\\n① 퇴직소득이 있는 거주자에 대해서는 해당 과세기간의 퇴직소득금액에서 제1호의 구분에 따른 금액을 공제하며, 그 금액은 근속년수(1년 미만이 있는 경우에는 이를 1로 보며, 제22조제1항제1호의 경우에는 대칭범위으로 정하는 방법에 따라 산출한 연수를 판단한다. 이하 같다면 나누고 12를 곱한 후의 금액(이하 이 항에서 “산출근거”라 한다)에 제2호의 구분에 따른 금액을 공제한다. <개정 2014. 12. 23., 2022. 12. 31.>\\n1. 근속연수에 따라 정한 다음의 금액\\n근속연수 | 공제액\\n--- | ---'), Document(id='ff514829-a4e3-447f-8bd5-007549c39a6f', metadata={'source': './documents/income_tax.txt'}, page_content='② 제70조제1항, 제70조의2에 따른 제74조에 따라 차례로 할 것이 제70조제1항제2호에 따르며 서류를 제출하여야 한다는 경우에는 기준소득 중 거주자 본인이 된다(분산)과 제70조제2와 제74조에 따른 제료 및 제대법을 포함한다. 단, 차별제표청정인 그 업체를 남겨 제출한 경우로 그에 대하여 아니하다.<개정 2013. 1. 1.>\\n  ③ 제80조에 따른 수익과 관련의 경우에는 기초공제 중 거주자 본인이 된다(분산)과 그에 관한 적지사항을 분명히 한다.\\n[전문개정 2009. 12. 31.]\\n[제목개정 2014. 1. 1.]\\n제54조의2(공동사업에 대한 소득공제 등 특례) 제51조의3 또는 「조세특례제한법」에 따른 소득공제를 적용하거나 제59조의2에 따른 세액감면을 적용하는 경우 제54조제3항에 따라 공동사업자의 소득에 합산과세되는 특별세액거래의 지출․납입․투자 등의 금액이 있을 경우 주된 공동사업자의 소득에 합산과세되는 소득금액에 합산되어 주된 공동사업자의 합산과세세액은 공동사업소득액 또는 공동사업창출세액을 계산할 때 소득공제 또는 세액공제를 받을 수 있다. \\n[개정 2014. 1. 1.]\\n[전문개정 2009. 12. 31.]\\n[제목개정 2014. 1. 1.]\\n제2절 세액의 계산 <개정 2009. 12. 31.>\\n제1관 세율 <개정 2009. 12. 31.>\\n제55조(세율) 거주자의 종합소득에 대한 소득세는 해당 연도의 종합소득과세표준에 다음의 세율을 적용하여 계산한 금액(이하 \"종합소득과세표준세액\"이라 한다)을 그 세액으로 한다. <개정 2014. 1. 1., 2016. 12. 20., 2017. 12. 19., 2020. 12. 29., 2022. 12. 31.>\\n종합소득\\n┌───────────────┐\\n│ 과세표준의 6개 구간 │\\n├───────────────┤\\n│ 1,400만원 이하        │ 84만원  │\\n│ 1,400만원 초과        │ 84만원 + (5,000만원을 초과하는 금액의 24%)  │\\n│ 8,800만원 이하        │ 624만원 + (5,000만원을 초과하는 금액의 24%)  │\\n│ 8,800만원 초과        │ 1,536만원 + (8,800만원을 초과하는 금액의 35%)  │\\n│ 1.5억원 초과          │ 4,046만원 + (1,500만원을 초과하는 금액의 38%)  │\\n│ 3억원 초과            │ 6,460만원 + (3억원을 초과하는 금액의 40%)  │\\n│ 5억원 초과            │ 14,760만원 + (5억원을 초과하는 금액의 42%)  │\\n│ 10억원 초과           │ 38,406만원 + (10억원을 초과하는 금액의 45%)  │\\n└───────────────┘\\n② 거주자의 퇴직소득에 대한 소득세는 다음 각 호의 순서에 따라 계산한 금액(이하 ‘퇴직소득 산출세액’이라 한다)으로 한다. <개정 2013. 1. 1., 2014. 12. 23.>\\n1. 해당 과세기간의 퇴직소득과세표준 제1항의 세율을 적용하여 계산한 금액')]\n",
      "[Document(id='c7dd2fe8-b674-487f-ae1d-2d11d3e809ea', metadata={'source': './documents/income_tax.txt'}, page_content='130만원 이하   \\n산출세액의 10분의 55 \\n130만원 초과   \\n71천원과 (130만원을 초과하는 금액의 10분의 30)  \\n\\n② 제1항에 대하여 공제받는 다음 각 호의 계산에 따른 금액을 초과하는 경우에 초과하는 금액은 없는 것으로 한다. <신설 2014. 1. 1., 2015. 5. 13., 2022. 12. 31.>\\n1. 총급여액이 3천만원 이하인 경우: 74천원 = (총급여액 - 300만원) × 8/1000. 단, 위 금액은 적은 경우 6천원으로 한다.\\n2. 총급여액이 3천만원 초과 7천만원 이하인 경우: 66천원 = (총급여액 - 7천만원) × 1/2. 단, 위 금액이 50만원보다 적은 경우에는 50만원으로 한다.\\n3. 총급여액이 1억원 미만일 경우에는 경우: 50만원 = (총급여액 - 1억원) × 1/2. 단, 위 금액이 20만원보다 적은 경우에는 20만원으로 한다.\\n4. 일금공로자의 근로소득에 대해 제134조제3항에 대한 원천징수를 하는 경우에는 해도 근로소득에 대한 산출세액의 100세 50에 해당하는 금액은 그 산출세액에 적용된다. <개정 2014. 1. 1.>\\n[전문개정 2021. 1.]  \\n제59조2의2(자산세예고제)\\n① 종합소득에 있는 거주자이기 근로제대상자에 해당하는 자녀(입장 및 위탁아동을 포함하며, 이하 이 조에서 \"공제대상자\"라 한다) 및 소득세법 제57조 이상의 사례에 대해서는 다음 각 호의 구분에 따른 금액을 종합소득세법에 공제받는다. <개정 2015. 5. 13., 2017. 12. 31., 2018. 12. 19., 2019. 12. 31., 2022. 12. 31., 2023. 12. 31.>  \\n\\n1명인 경우: 연 15만원\\n2명인 경우: 연 35만원\\n3명 이상인 경우: 연 35만원과 2명을 초과하는 1명당 연 30만원을 합한 금액\\n③ 삭제: 2017. 12. 19.\\n④ 해당 과세기간에 출산하거나 입양 신고한 경우 각 호의 구분에 따른 금액을 공통적으로 환산특수산출세액에 세액해당. <신설 2015. 5. 13., 2016. 12. 20.>\\n출산하거나 입양 신고한 공제대상자녀가 첫째인 경우: 연 30만원\\n출산하거나 입양 신고한 공제대상자녀가 둘째인 경우: 연 50만원\\n출산하거나 입양 신고한 공제대상자녀가 셋째 이상인 경우: 연 70만원\\n④ 제1항 및 제3항에 따른 공제는 \"자녀세액공제\"라 한다. <신설 2015. 5. 13., 2017. 12. 19.>\\n[본조신설 2014. 1. 1.]\\n[중전 제59조의2는 제59조의3으로 이동 <2014. 1. 1.>]'), Document(id='34835626-7609-4452-8dd4-1a48ae22e99c', metadata={'source': './documents/income_tax.txt'}, page_content='[전문개정 2009. 12. 31.]\\n제47조 근로소득증제 - 연금소득증제 및 퇴직소득증제\\n<개정> 2009. 12. 31.  \\n제48조(근로소득증제)\\n근로소득이 있는 거주자에 대해서는 해당 과세기간에 받는 총급여액에 다음의 금액을 공제한다. 다만, 공제액이 2천만원을 초과하는 경우에는 2천만원을 공제한다. <개정> 2012. 1. 1, 2014. 1. 1, 2019. 12. 31.\\n소득세법\\n총급여액 | 공제액\\n--- | ---\\n500만원 이하 | 총 급여액의 100분의 70\\n500만원 초과 1천500만원 이하 | 350만원+(500만원을 초과하는 금액의 100분의 40)\\n1천500만원 초과 4천500만원 이하 | 750만원+(1천500만원을 초과하는 금액의 100분의 15)\\n4천500만원 초과 1억원 이하 | 1천200만원+(4천500만원을 초과하는 금액의 100분의 5)\\n1억원 초과 | 1천475만원+(1억원을 초과하는 금액의 100분의 2)\\n② 일용근로소득에 대한 공제액은 제1항에도 불구하고 1인 15만원으로 한다. <개정 2018. 12. 31.>\\n③ 근로소득이 있는 거주자의 해악 과세기간의 총급여액에 제1항 또는 제2항의 규정에 미달하는 경우에는 그 총급여액을 공제액으로 한다.\\n④ 제1항부터 제3항까지의 규정에 따른 공제를 “근로소득공제”라 한다.\\n⑤ 제1항의 경우에 2인 이상의 근로소득을 받은 사람(일용근로자는 제외한다)에 대하여는 그 근로소득의 합계액을 총급여액으로 하여 제1항에 따른 근로소득공제를 총급여액에서 공제한다. <개정 2010. 12. 27.>\\n[전문 개정 2009. 12. 31.]\\n제47조2(연금소득공제)\\n① 연금소득이 있는 거주자에 대해서는 해당 과세기간에 받은 총연금액(분리과세연금소득)은 제1항에 이어 항에 갈치에 다음 표에 규정된 금액을 공제한다. 다만, 공제액이 900만원을 초과하는 경우에는 900만원을 공제한다. <개정 2013. 1. 1.>\\n총급여액 | 공제액\\n--- | ---\\n350만원 이하 | 총급여액\\n350만원 초과 700만원 이하 | 350만원+(350만원을 초과하는 금액의 100분의 40)\\n700만원 초과 1천만원 이하 | 630만원+(700만원을 초과하는 금액의 100분의 20)\\n1천만원 초과 | 1천100만원+(1천만원을 초과하는 금액의 100분의 10)\\n② 제1항에 따른 공제를 “연금소득공제”라 한다. [전문 개정 2009. 12. 31.]\\n제48조(퇴직소득공제)\\n① 퇴직소득이 있는 거주자에 대해서는 해당 과세기간의 퇴직소득금액에서 제1호의 구분에 따른 금액을 공제하며, 그 금액은 근속년수(1년 미만이 있는 경우에는 이를 1로 보며, 제22조제1항제1호의 경우에는 대칭범위으로 정하는 방법에 따라 산출한 연수를 판단한다. 이하 같다면 나누고 12를 곱한 후의 금액(이하 이 항에서 “산출근거”라 한다)에 제2호의 구분에 따른 금액을 공제한다. <개정 2014. 12. 23., 2022. 12. 31.>\\n1. 근속연수에 따라 정한 다음의 금액\\n근속연수 | 공제액\\n--- | ---'), Document(id='ff514829-a4e3-447f-8bd5-007549c39a6f', metadata={'source': './documents/income_tax.txt'}, page_content='② 제70조제1항, 제70조의2에 따른 제74조에 따라 차례로 할 것이 제70조제1항제2호에 따르며 서류를 제출하여야 한다는 경우에는 기준소득 중 거주자 본인이 된다(분산)과 제70조제2와 제74조에 따른 제료 및 제대법을 포함한다. 단, 차별제표청정인 그 업체를 남겨 제출한 경우로 그에 대하여 아니하다.<개정 2013. 1. 1.>\\n  ③ 제80조에 따른 수익과 관련의 경우에는 기초공제 중 거주자 본인이 된다(분산)과 그에 관한 적지사항을 분명히 한다.\\n[전문개정 2009. 12. 31.]\\n[제목개정 2014. 1. 1.]\\n제54조의2(공동사업에 대한 소득공제 등 특례) 제51조의3 또는 「조세특례제한법」에 따른 소득공제를 적용하거나 제59조의2에 따른 세액감면을 적용하는 경우 제54조제3항에 따라 공동사업자의 소득에 합산과세되는 특별세액거래의 지출․납입․투자 등의 금액이 있을 경우 주된 공동사업자의 소득에 합산과세되는 소득금액에 합산되어 주된 공동사업자의 합산과세세액은 공동사업소득액 또는 공동사업창출세액을 계산할 때 소득공제 또는 세액공제를 받을 수 있다. \\n[개정 2014. 1. 1.]\\n[전문개정 2009. 12. 31.]\\n[제목개정 2014. 1. 1.]\\n제2절 세액의 계산 <개정 2009. 12. 31.>\\n제1관 세율 <개정 2009. 12. 31.>\\n제55조(세율) 거주자의 종합소득에 대한 소득세는 해당 연도의 종합소득과세표준에 다음의 세율을 적용하여 계산한 금액(이하 \"종합소득과세표준세액\"이라 한다)을 그 세액으로 한다. <개정 2014. 1. 1., 2016. 12. 20., 2017. 12. 19., 2020. 12. 29., 2022. 12. 31.>\\n종합소득\\n┌───────────────┐\\n│ 과세표준의 6개 구간 │\\n├───────────────┤\\n│ 1,400만원 이하        │ 84만원  │\\n│ 1,400만원 초과        │ 84만원 + (5,000만원을 초과하는 금액의 24%)  │\\n│ 8,800만원 이하        │ 624만원 + (5,000만원을 초과하는 금액의 24%)  │\\n│ 8,800만원 초과        │ 1,536만원 + (8,800만원을 초과하는 금액의 35%)  │\\n│ 1.5억원 초과          │ 4,046만원 + (1,500만원을 초과하는 금액의 38%)  │\\n│ 3억원 초과            │ 6,460만원 + (3억원을 초과하는 금액의 40%)  │\\n│ 5억원 초과            │ 14,760만원 + (5억원을 초과하는 금액의 42%)  │\\n│ 10억원 초과           │ 38,406만원 + (10억원을 초과하는 금액의 45%)  │\\n└───────────────┘\\n② 거주자의 퇴직소득에 대한 소득세는 다음 각 호의 순서에 따라 계산한 금액(이하 ‘퇴직소득 산출세액’이라 한다)으로 한다. <개정 2013. 1. 1., 2014. 12. 23.>\\n1. 해당 과세기간의 퇴직소득과세표준 제1항의 세율을 적용하여 계산한 금액')]\n",
      "{'Explanation': \"The facts contain keywords related to the question, such as 'total salary' and 'tax deduction', which are relevant to the question about the tax for a 50 million won salary worker.\", 'Score': 1}\n"
     ]
    },
    {
     "data": {
      "text/plain": [
       "{'query': '연봉 5천만원 직장인의 세금은?',\n",
       " 'context': [Document(id='c7dd2fe8-b674-487f-ae1d-2d11d3e809ea', metadata={'source': './documents/income_tax.txt'}, page_content='130만원 이하   \\n산출세액의 10분의 55 \\n130만원 초과   \\n71천원과 (130만원을 초과하는 금액의 10분의 30)  \\n\\n② 제1항에 대하여 공제받는 다음 각 호의 계산에 따른 금액을 초과하는 경우에 초과하는 금액은 없는 것으로 한다. <신설 2014. 1. 1., 2015. 5. 13., 2022. 12. 31.>\\n1. 총급여액이 3천만원 이하인 경우: 74천원 = (총급여액 - 300만원) × 8/1000. 단, 위 금액은 적은 경우 6천원으로 한다.\\n2. 총급여액이 3천만원 초과 7천만원 이하인 경우: 66천원 = (총급여액 - 7천만원) × 1/2. 단, 위 금액이 50만원보다 적은 경우에는 50만원으로 한다.\\n3. 총급여액이 1억원 미만일 경우에는 경우: 50만원 = (총급여액 - 1억원) × 1/2. 단, 위 금액이 20만원보다 적은 경우에는 20만원으로 한다.\\n4. 일금공로자의 근로소득에 대해 제134조제3항에 대한 원천징수를 하는 경우에는 해도 근로소득에 대한 산출세액의 100세 50에 해당하는 금액은 그 산출세액에 적용된다. <개정 2014. 1. 1.>\\n[전문개정 2021. 1.]  \\n제59조2의2(자산세예고제)\\n① 종합소득에 있는 거주자이기 근로제대상자에 해당하는 자녀(입장 및 위탁아동을 포함하며, 이하 이 조에서 \"공제대상자\"라 한다) 및 소득세법 제57조 이상의 사례에 대해서는 다음 각 호의 구분에 따른 금액을 종합소득세법에 공제받는다. <개정 2015. 5. 13., 2017. 12. 31., 2018. 12. 19., 2019. 12. 31., 2022. 12. 31., 2023. 12. 31.>  \\n\\n1명인 경우: 연 15만원\\n2명인 경우: 연 35만원\\n3명 이상인 경우: 연 35만원과 2명을 초과하는 1명당 연 30만원을 합한 금액\\n③ 삭제: 2017. 12. 19.\\n④ 해당 과세기간에 출산하거나 입양 신고한 경우 각 호의 구분에 따른 금액을 공통적으로 환산특수산출세액에 세액해당. <신설 2015. 5. 13., 2016. 12. 20.>\\n출산하거나 입양 신고한 공제대상자녀가 첫째인 경우: 연 30만원\\n출산하거나 입양 신고한 공제대상자녀가 둘째인 경우: 연 50만원\\n출산하거나 입양 신고한 공제대상자녀가 셋째 이상인 경우: 연 70만원\\n④ 제1항 및 제3항에 따른 공제는 \"자녀세액공제\"라 한다. <신설 2015. 5. 13., 2017. 12. 19.>\\n[본조신설 2014. 1. 1.]\\n[중전 제59조의2는 제59조의3으로 이동 <2014. 1. 1.>]'),\n",
       "  Document(id='34835626-7609-4452-8dd4-1a48ae22e99c', metadata={'source': './documents/income_tax.txt'}, page_content='[전문개정 2009. 12. 31.]\\n제47조 근로소득증제 - 연금소득증제 및 퇴직소득증제\\n<개정> 2009. 12. 31.  \\n제48조(근로소득증제)\\n근로소득이 있는 거주자에 대해서는 해당 과세기간에 받는 총급여액에 다음의 금액을 공제한다. 다만, 공제액이 2천만원을 초과하는 경우에는 2천만원을 공제한다. <개정> 2012. 1. 1, 2014. 1. 1, 2019. 12. 31.\\n소득세법\\n총급여액 | 공제액\\n--- | ---\\n500만원 이하 | 총 급여액의 100분의 70\\n500만원 초과 1천500만원 이하 | 350만원+(500만원을 초과하는 금액의 100분의 40)\\n1천500만원 초과 4천500만원 이하 | 750만원+(1천500만원을 초과하는 금액의 100분의 15)\\n4천500만원 초과 1억원 이하 | 1천200만원+(4천500만원을 초과하는 금액의 100분의 5)\\n1억원 초과 | 1천475만원+(1억원을 초과하는 금액의 100분의 2)\\n② 일용근로소득에 대한 공제액은 제1항에도 불구하고 1인 15만원으로 한다. <개정 2018. 12. 31.>\\n③ 근로소득이 있는 거주자의 해악 과세기간의 총급여액에 제1항 또는 제2항의 규정에 미달하는 경우에는 그 총급여액을 공제액으로 한다.\\n④ 제1항부터 제3항까지의 규정에 따른 공제를 “근로소득공제”라 한다.\\n⑤ 제1항의 경우에 2인 이상의 근로소득을 받은 사람(일용근로자는 제외한다)에 대하여는 그 근로소득의 합계액을 총급여액으로 하여 제1항에 따른 근로소득공제를 총급여액에서 공제한다. <개정 2010. 12. 27.>\\n[전문 개정 2009. 12. 31.]\\n제47조2(연금소득공제)\\n① 연금소득이 있는 거주자에 대해서는 해당 과세기간에 받은 총연금액(분리과세연금소득)은 제1항에 이어 항에 갈치에 다음 표에 규정된 금액을 공제한다. 다만, 공제액이 900만원을 초과하는 경우에는 900만원을 공제한다. <개정 2013. 1. 1.>\\n총급여액 | 공제액\\n--- | ---\\n350만원 이하 | 총급여액\\n350만원 초과 700만원 이하 | 350만원+(350만원을 초과하는 금액의 100분의 40)\\n700만원 초과 1천만원 이하 | 630만원+(700만원을 초과하는 금액의 100분의 20)\\n1천만원 초과 | 1천100만원+(1천만원을 초과하는 금액의 100분의 10)\\n② 제1항에 따른 공제를 “연금소득공제”라 한다. [전문 개정 2009. 12. 31.]\\n제48조(퇴직소득공제)\\n① 퇴직소득이 있는 거주자에 대해서는 해당 과세기간의 퇴직소득금액에서 제1호의 구분에 따른 금액을 공제하며, 그 금액은 근속년수(1년 미만이 있는 경우에는 이를 1로 보며, 제22조제1항제1호의 경우에는 대칭범위으로 정하는 방법에 따라 산출한 연수를 판단한다. 이하 같다면 나누고 12를 곱한 후의 금액(이하 이 항에서 “산출근거”라 한다)에 제2호의 구분에 따른 금액을 공제한다. <개정 2014. 12. 23., 2022. 12. 31.>\\n1. 근속연수에 따라 정한 다음의 금액\\n근속연수 | 공제액\\n--- | ---'),\n",
       "  Document(id='ff514829-a4e3-447f-8bd5-007549c39a6f', metadata={'source': './documents/income_tax.txt'}, page_content='② 제70조제1항, 제70조의2에 따른 제74조에 따라 차례로 할 것이 제70조제1항제2호에 따르며 서류를 제출하여야 한다는 경우에는 기준소득 중 거주자 본인이 된다(분산)과 제70조제2와 제74조에 따른 제료 및 제대법을 포함한다. 단, 차별제표청정인 그 업체를 남겨 제출한 경우로 그에 대하여 아니하다.<개정 2013. 1. 1.>\\n  ③ 제80조에 따른 수익과 관련의 경우에는 기초공제 중 거주자 본인이 된다(분산)과 그에 관한 적지사항을 분명히 한다.\\n[전문개정 2009. 12. 31.]\\n[제목개정 2014. 1. 1.]\\n제54조의2(공동사업에 대한 소득공제 등 특례) 제51조의3 또는 「조세특례제한법」에 따른 소득공제를 적용하거나 제59조의2에 따른 세액감면을 적용하는 경우 제54조제3항에 따라 공동사업자의 소득에 합산과세되는 특별세액거래의 지출․납입․투자 등의 금액이 있을 경우 주된 공동사업자의 소득에 합산과세되는 소득금액에 합산되어 주된 공동사업자의 합산과세세액은 공동사업소득액 또는 공동사업창출세액을 계산할 때 소득공제 또는 세액공제를 받을 수 있다. \\n[개정 2014. 1. 1.]\\n[전문개정 2009. 12. 31.]\\n[제목개정 2014. 1. 1.]\\n제2절 세액의 계산 <개정 2009. 12. 31.>\\n제1관 세율 <개정 2009. 12. 31.>\\n제55조(세율) 거주자의 종합소득에 대한 소득세는 해당 연도의 종합소득과세표준에 다음의 세율을 적용하여 계산한 금액(이하 \"종합소득과세표준세액\"이라 한다)을 그 세액으로 한다. <개정 2014. 1. 1., 2016. 12. 20., 2017. 12. 19., 2020. 12. 29., 2022. 12. 31.>\\n종합소득\\n┌───────────────┐\\n│ 과세표준의 6개 구간 │\\n├───────────────┤\\n│ 1,400만원 이하        │ 84만원  │\\n│ 1,400만원 초과        │ 84만원 + (5,000만원을 초과하는 금액의 24%)  │\\n│ 8,800만원 이하        │ 624만원 + (5,000만원을 초과하는 금액의 24%)  │\\n│ 8,800만원 초과        │ 1,536만원 + (8,800만원을 초과하는 금액의 35%)  │\\n│ 1.5억원 초과          │ 4,046만원 + (1,500만원을 초과하는 금액의 38%)  │\\n│ 3억원 초과            │ 6,460만원 + (3억원을 초과하는 금액의 40%)  │\\n│ 5억원 초과            │ 14,760만원 + (5억원을 초과하는 금액의 42%)  │\\n│ 10억원 초과           │ 38,406만원 + (10억원을 초과하는 금액의 45%)  │\\n└───────────────┘\\n② 거주자의 퇴직소득에 대한 소득세는 다음 각 호의 순서에 따라 계산한 금액(이하 ‘퇴직소득 산출세액’이라 한다)으로 한다. <개정 2013. 1. 1., 2014. 12. 23.>\\n1. 해당 과세기간의 퇴직소득과세표준 제1항의 세율을 적용하여 계산한 금액')],\n",
       " 'answer': '연봉 5천만원의 직장인의 세금을 계산하려면 먼저 근로소득공제를 적용해야 합니다. 연봉 5천만원은 4천5백만원 초과 1억원 이하의 구간에 해당하므로, 근로소득공제 금액은 1천200만원+(4천5백만원을 초과하는 금액의 100분의 5)로 계산됩니다. 따라서 근로소득공제 금액은 1천200만원 + (5백만원의 5%) = 1천2백2십5만원이 됩니다. 이를 연봉 5천만원에서 빼면 과세표준이 3천7백7십5만원이 됩니다. 이 금액에 소득세율을 적용하면 세금이 계산됩니다. 3천7백7십5만원의 과세표준에 대한 소득세율은 24%이므로, 세금은 3천7백7십5만원 * 24% = 9천4백2십만원이 됩니다. 그러나 이는 원천징수세액일 뿐이며, 실제 납부세액은 각종 공제 및 세액감면 등을 고려하여 결정됩니다.'}"
      ]
     },
     "execution_count": 11,
     "metadata": {},
     "output_type": "execute_result"
    }
   ],
   "source": [
    "query = \"연봉 5천만원 직장인의 세금은?\"\n",
    "initial_state = {'query': query}\n",
    "graph.invoke(initial_state)"
   ]
  },
  {
   "cell_type": "code",
   "execution_count": 12,
   "id": "ca0bacba",
   "metadata": {},
   "outputs": [],
   "source": [
    "# Literal\n",
    "# Hashable\n",
    "# Runable\n",
    "# Callable 정리\n",
    "\n",
    "# 그럼 conditional edge에 들어가는 함수는 노드로 등록할 필요도 없는것인가? gpt와 공식문서는 어떻게 했는지 알아보자\n",
    "# 어떻게 Literal 하나 붙인다고 그게 동작하지? 원리가 궁금하다."
   ]
  },
  {
   "cell_type": "code",
   "execution_count": null,
   "id": "14541b68",
   "metadata": {},
   "outputs": [],
   "source": []
  },
  {
   "cell_type": "code",
   "execution_count": null,
   "id": "e380c76d",
   "metadata": {},
   "outputs": [],
   "source": []
  },
  {
   "cell_type": "code",
   "execution_count": null,
   "id": "16edb202",
   "metadata": {},
   "outputs": [],
   "source": []
  }
 ],
 "metadata": {
  "kernelspec": {
   "display_name": ".venv",
   "language": "python",
   "name": "python3"
  },
  "language_info": {
   "codemirror_mode": {
    "name": "ipython",
    "version": 3
   },
   "file_extension": ".py",
   "mimetype": "text/x-python",
   "name": "python",
   "nbconvert_exporter": "python",
   "pygments_lexer": "ipython3",
   "version": "3.11.9"
  }
 },
 "nbformat": 4,
 "nbformat_minor": 5
}
