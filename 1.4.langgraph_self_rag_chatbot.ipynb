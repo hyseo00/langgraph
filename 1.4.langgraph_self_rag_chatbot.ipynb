{
 "cells": [
  {
   "cell_type": "code",
   "execution_count": 1,
   "id": "66c3b623",
   "metadata": {},
   "outputs": [
    {
     "data": {
      "text/plain": [
       "True"
      ]
     },
     "execution_count": 1,
     "metadata": {},
     "output_type": "execute_result"
    }
   ],
   "source": [
    "from dotenv import load_dotenv\n",
    "\n",
    "load_dotenv()"
   ]
  },
  {
   "cell_type": "code",
   "execution_count": 2,
   "id": "8b4ee40a",
   "metadata": {},
   "outputs": [],
   "source": [
    "from langchain_upstage import UpstageEmbeddings\n",
    "from langchain_chroma import Chroma\n",
    "\n",
    "embeddings = UpstageEmbeddings(model=\"solar-embedding-1-large\")\n",
    "\n",
    "vector_store = Chroma(collection_name=\"income_tax_collection\",\n",
    "                      embedding_function=embeddings,\n",
    "                      persist_directory=\"./income_tax_collection\")\n",
    "\n",
    "retriever = vector_store.as_retriever(search_kwargs={'k': 3})"
   ]
  },
  {
   "cell_type": "code",
   "execution_count": 3,
   "id": "e37522a6",
   "metadata": {},
   "outputs": [],
   "source": [
    "from typing_extensions import List, TypedDict\n",
    "from langchain_core.documents import Document\n",
    "from langgraph.graph import StateGraph\n",
    "\n",
    "class AgentState(TypedDict):\n",
    "    query: str\n",
    "    context: list[Document]\n",
    "    answer: str\n",
    "\n",
    "graph_builder = StateGraph(AgentState)"
   ]
  },
  {
   "cell_type": "code",
   "execution_count": 4,
   "id": "59dd4cf2",
   "metadata": {},
   "outputs": [],
   "source": [
    "def retrieve(state: AgentState) -> AgentState:\n",
    "    query = state['query']\n",
    "    docs = retriever.invoke(query)\n",
    "    print(f\"retrieve: {docs}\")\n",
    "    return {'context': docs}"
   ]
  },
  {
   "cell_type": "code",
   "execution_count": 5,
   "id": "a8919f99",
   "metadata": {},
   "outputs": [],
   "source": [
    "from langchain import hub\n",
    "from langchain_upstage import ChatUpstage\n",
    "from langchain_core.output_parsers import StrOutputParser\n",
    "from langchain_core.prompts import PromptTemplate\n",
    "\n",
    "llm = ChatUpstage()\n",
    "generate_prompt = PromptTemplate.from_template(f\"\"\"\n",
    "    [Identity]\n",
    "    \"당신은 소득세법 전문가입니다. 사용자의 소득세법에 관한 질문에 답변해주세요\"\n",
    "    \"아래에 제공된 문서를 활용해서 답변해주시고\"\n",
    "    \"답변을 알 수 없다면 모른다고 답변해주세요\"\n",
    "    \"특히 소득세법 전문가이기 때문에 수학계산을 정확히 해주시길 바랍니다.\"\n",
    "    \"답변을 제공할 때는 소득세법 (XX조)에 따르면 이라고 시작하면서 답변해주세요.\"\n",
    "        \n",
    "    [Context]\n",
    "    {{context}}\n",
    "    \n",
    "    Question: {{question}}\n",
    "\"\"\" \n",
    ")\n",
    "\n",
    "def generate(state: AgentState) -> AgentState:\n",
    "    query = state['query']\n",
    "    context = state['context']\n",
    "    # 이곳에 StrOutputParser를 붙이지 않으면 rag_chain의 결과가 llm의 답변인 Message 객체가 됨\n",
    "    # 하지만 우리 state에서 'answer'의 type은 str이므로 str로 바꿔줘야함\n",
    "    # 여기서는 바꾸지 않아도 에러가 안나지만 에러가 날 때도 있다고 한다. 그건 나중에 공부해보자자\n",
    "    rag_chain = generate_prompt | llm | StrOutputParser()\n",
    "    response = rag_chain.invoke({'question': query, 'context': context})\n",
    "    print(f\"generate: {response}\")\n",
    "    return {'answer': response}"
   ]
  },
  {
   "cell_type": "code",
   "execution_count": 6,
   "id": "e5576a62",
   "metadata": {},
   "outputs": [
    {
     "name": "stderr",
     "output_type": "stream",
     "text": [
      "c:\\Users\\hyunseo\\Desktop\\learn_langgraph\\.venv\\Lib\\site-packages\\langsmith\\client.py:272: LangSmithMissingAPIKeyWarning: API key must be provided when using hosted LangSmith API\n",
      "  warnings.warn(\n"
     ]
    }
   ],
   "source": [
    "from typing import Literal\n",
    "from langchain import hub\n",
    "\n",
    "doc_relevance_prompt = hub.pull(\"langchain-ai/rag-document-relevance\")\n",
    "\n",
    "def check_doc_relevance(state: AgentState) -> Literal['relevant', 'irrelevant']:\n",
    "    query = state['query']\n",
    "    context = state['context']\n",
    "    print(f\"check_doc_relevance: {query}{context}\")\n",
    "    doc_relevance_chain = doc_relevance_prompt | llm\n",
    "    print(f\"check_doc_relevance: good\")\n",
    "    response = doc_relevance_chain.invoke({'question': query, 'documents': context})\n",
    "    print(f\"check_doc_relevance: {response}\")\n",
    "    if response['Score'] == 1:\n",
    "        return 'relevant'\n",
    "    else:\n",
    "        return 'irrelevant'"
   ]
  },
  {
   "cell_type": "code",
   "execution_count": 7,
   "id": "dcfb2eb9",
   "metadata": {},
   "outputs": [],
   "source": [
    "from langchain_core.prompts import PromptTemplate\n",
    "from langchain_core.output_parsers import StrOutputParser\n",
    "\n",
    "keword_dictionary = ['사람과 관련된 표현 -> 거주자']\n",
    "\n",
    "rewrite_prompt = PromptTemplate.from_template(f\"\"\"\n",
    "    사용자의 질문을 보고, 우리의 사전을 참고해서 사용자의 질문을 변경해주세요 \n",
    "    사전: {keword_dictionary}                                           \n",
    "    질문: {{query}}\n",
    "    \"\"\"\n",
    ")\n",
    "\n",
    "def rewrite(state: AgentState) -> AgentState:\n",
    "    query = state['query']\n",
    "    rewrite_chain = rewrite_prompt | llm | StrOutputParser()\n",
    "    response = rewrite_chain.invoke({'query': query})\n",
    "    print(f\"rewrite: {response}\")\n",
    "    return {'query': response}"
   ]
  },
  {
   "cell_type": "code",
   "execution_count": 8,
   "id": "748f271c",
   "metadata": {},
   "outputs": [],
   "source": [
    "hallucination_prompt = PromptTemplate.from_template(\"\"\"\n",
    "    You are a teacher tasked with evaluating whether a student's answer is based on documents or not,\n",
    "    Given documents, which are excerpts from income tax law, and a student's answer;\n",
    "    If the student's answer is based on documents, respond with \"not hallucinated\",\n",
    "    If the student's answer is not based on documents, respond with \"hallucinated\".\n",
    "\n",
    "    documents: {documents}\n",
    "    student_answer: {student_answer}\n",
    "    \"\"\")\n",
    "\n",
    "hallucination_llm = ChatUpstage(temperature=0)\n",
    "\n",
    "def check_hallucination(state: AgentState) -> Literal['hallucinated', 'not hallucinated']:\n",
    "    answer = state['answer']\n",
    "    context = state['context']\n",
    "    context = [doc.page_content for doc in context]\n",
    "    hallucination_chain = hallucination_prompt | hallucination_llm | StrOutputParser()\n",
    "    response = hallucination_chain.invoke({'student_answer': answer, 'documents': context}).strip().lower().rstrip('.')\n",
    "    print(f\"check_hallucination: {response}\")\n",
    "\n",
    "    return response"
   ]
  },
  {
   "cell_type": "code",
   "execution_count": 9,
   "id": "2ce18445",
   "metadata": {},
   "outputs": [
    {
     "name": "stderr",
     "output_type": "stream",
     "text": [
      "c:\\Users\\hyunseo\\Desktop\\learn_langgraph\\.venv\\Lib\\site-packages\\langsmith\\client.py:272: LangSmithMissingAPIKeyWarning: API key must be provided when using hosted LangSmith API\n",
      "  warnings.warn(\n"
     ]
    }
   ],
   "source": [
    "from langchain import hub\n",
    "\n",
    "# LangChain 허브에서 유용성 프롬프트를 가져옵니다\n",
    "helpfulness_prompt = hub.pull(\"langchain-ai/rag-answer-helpfulness\")\n",
    "\n",
    "def check_helpfulness_grader(state: AgentState) -> Literal['helpful', 'unhelpful']:\n",
    "    query = state['query']\n",
    "    answer = state['answer']\n",
    "\n",
    "    helpfulness_chain = helpfulness_prompt | llm\n",
    "    \n",
    "    response = helpfulness_chain.invoke({'question': query, 'student_answer': answer})\n",
    "    print(f\"check_helpfulness_grader: {response}\")\n",
    "\n",
    "    if response['Score'] == 1:\n",
    "        return 'helpful'\n",
    "    \n",
    "    return 'unhelpful'\n",
    "\n",
    "def check_helpfulness(state: AgentState) -> AgentState:\n",
    "    return state"
   ]
  },
  {
   "cell_type": "code",
   "execution_count": 10,
   "id": "86c5a32d",
   "metadata": {},
   "outputs": [
    {
     "data": {
      "text/plain": [
       "<langgraph.graph.state.StateGraph at 0x21b7fcf6490>"
      ]
     },
     "execution_count": 10,
     "metadata": {},
     "output_type": "execute_result"
    }
   ],
   "source": [
    "graph_builder.add_node('retrieve', retrieve)\n",
    "graph_builder.add_node('generate', generate)\n",
    "graph_builder.add_node('rewrite', rewrite)\n",
    "graph_builder.add_node('check_helpfulness', check_helpfulness)"
   ]
  },
  {
   "cell_type": "code",
   "execution_count": 11,
   "id": "6a71d2e5",
   "metadata": {},
   "outputs": [
    {
     "data": {
      "text/plain": [
       "<langgraph.graph.state.StateGraph at 0x21b7fcf6490>"
      ]
     },
     "execution_count": 11,
     "metadata": {},
     "output_type": "execute_result"
    }
   ],
   "source": [
    "from langgraph.graph import START, END\n",
    "\n",
    "graph_builder.add_edge(START, 'retrieve')\n",
    "graph_builder.add_conditional_edges(\n",
    "    'retrieve',\n",
    "    check_doc_relevance, \n",
    "    {\n",
    "        'relevant': 'generate',\n",
    "        'irrelevant': END\n",
    "    }\n",
    ")\n",
    "graph_builder.add_conditional_edges(\n",
    "    'generate',\n",
    "    check_hallucination,\n",
    "    {\n",
    "        'not hallucinated': 'check_helpfulness',\n",
    "        'hallucinated': 'generate'\n",
    "    }\n",
    ")\n",
    "\n",
    "graph_builder.add_conditional_edges(\n",
    "    'check_helpfulness',\n",
    "    check_helpfulness_grader,\n",
    "    {\n",
    "        'helpful': END,\n",
    "        'unhelpful': 'rewrite'\n",
    "    }\n",
    ")\n",
    "graph_builder.add_edge('rewrite', 'retrieve')"
   ]
  },
  {
   "cell_type": "code",
   "execution_count": null,
   "id": "1cd16a62",
   "metadata": {},
   "outputs": [
    {
     "data": {
      "image/png": "[encoded data removed]",
      "text/plain": [
       "<IPython.core.display.Image object>"
      ]
     },
     "metadata": {},
     "output_type": "display_data"
    }
   ],
   "source": [
    "# from IPython.display import Image, display\n",
    "\n",
    "# graph = graph_builder.compile()\n",
    "\n",
    "# display(Image(graph.get_graph().draw_mermaid_png()))"
   ]
  },
  {
   "cell_type": "code",
   "execution_count": null,
   "id": "c1ac3ee9",
   "metadata": {},
   "outputs": [
    {
     "name": "stdout",
     "output_type": "stream",
     "text": [
      "retrieve: [Document(id='f4e9684c-d1e8-4427-9727-4ab8dbb597f8', metadata={'source': './documents/income_tax.txt'}, page_content='| 종합소득 과세표준          | 세율                                         |\\n|-------------------|--------------------------------------------|\\n| 1,400만원 이하     | 과세표준의 6퍼센트                             |\\n| 1,400만원 초과     5,000만원 이하     | 84만원 + (1,400만원을 초과하는 금액의 15퍼센트)  |\\n| 5,000만원 초과   8,800만원 이하     | 624만원 + (5,000만원을 초과하는 금액의 24퍼센트) |\\n| 8,800만원 초과 1억5천만원 이하    | 3,706만원 + (8,800만원을 초과하는 금액의 35퍼센트)|\\n| 1억5천만원 초과 3억원 이하         | 3,706만원 + (1억5천만원을 초과하는 금액의 38퍼센트)|\\n| 3억원 초과    5억원 이하         | 9,406만원 + (3억원을 초과하는 금액의 38퍼센트)   |\\n| 5억원 초과      10억원 이하        | 1억 7,406만원 + (5억원을 초과하는 금액의 42퍼센트)|\\n| 10억원 초과        | 3억 8,406만원 + (10억원을 초과하는 금액의 45퍼센트)|'), Document(id='05aa221c-2aa8-46bf-979c-70bc52d7a521', metadata={'source': './documents/income_tax.txt'}, page_content='130만원 이하   \\n산출세액의 10분의 55 \\n130만원 초과   \\n71천원과 (130만원을 초과하는 금액의 10분의 30)  \\n\\n② 제1항에 대하여 공제받는 다음 각 호의 계산에 따른 금액을 초과하는 경우에 초과하는 금액은 없는 것으로 한다. <신설 2014. 1. 1., 2015. 5. 13., 2022. 12. 31.>\\n1. 총급여액이 3천만원 이하인 경우: 74천원 = (총급여액 - 300만원) × 8/1000. 단, 위 금액은 적은 경우 6천원으로 한다.\\n2. 총급여액이 3천만원 초과 7천만원 이하인 경우: 66천원 = (총급여액 - 7천만원) × 1/2. 단, 위 금액이 50만원보다 적은 경우에는 50만원으로 한다.\\n3. 총급여액이 1억원 미만일 경우에는 경우: 50만원 = (총급여액 - 1억원) × 1/2. 단, 위 금액이 20만원보다 적은 경우에는 20만원으로 한다.\\n4. 일금공로자의 근로소득에 대해 제134조제3항에 대한 원천징수를 하는 경우에는 해도 근로소득에 대한 산출세액의 100세 50에 해당하는 금액은 그 산출세액에 적용된다. <개정 2014. 1. 1.>\\n[전문개정 2021. 1.]  \\n제59조2의2(자산세예고제)\\n① 종합소득에 있는 거주자이기 근로제대상자에 해당하는 자녀(입장 및 위탁아동을 포함하며, 이하 이 조에서 \"공제대상자\"라 한다) 및 소득세법 제57조 이상의 사례에 대해서는 다음 각 호의 구분에 따른 금액을 종합소득세법에 공제받는다. <개정 2015. 5. 13., 2017. 12. 31., 2018. 12. 19., 2019. 12. 31., 2022. 12. 31., 2023. 12. 31.>  \\n\\n1명인 경우: 연 15만원\\n2명인 경우: 연 35만원\\n3명 이상인 경우: 연 35만원과 2명을 초과하는 1명당 연 30만원을 합한 금액\\n③ 삭제: 2017. 12. 19.\\n④ 해당 과세기간에 출산하거나 입양 신고한 경우 각 호의 구분에 따른 금액을 공통적으로 환산특수산출세액에 세액해당. <신설 2015. 5. 13., 2016. 12. 20.>\\n출산하거나 입양 신고한 공제대상자녀가 첫째인 경우: 연 30만원\\n출산하거나 입양 신고한 공제대상자녀가 둘째인 경우: 연 50만원\\n출산하거나 입양 신고한 공제대상자녀가 셋째 이상인 경우: 연 70만원\\n④ 제1항 및 제3항에 따른 공제는 \"자녀세액공제\"라 한다. <신설 2015. 5. 13., 2017. 12. 19.>\\n[본조신설 2014. 1. 1.]\\n[중전 제59조의2는 제59조의3으로 이동 <2014. 1. 1.>]'), Document(id='209f6daa-555e-4978-84f8-3dd60337a949', metadata={'source': './documents/income_tax.txt'}, page_content='[전문개정 2009. 12. 31.]\\n제47조 근로소득증제 - 연금소득증제 및 퇴직소득증제\\n<개정> 2009. 12. 31.  \\n제48조(근로소득증제)\\n근로소득이 있는 거주자에 대해서는 해당 과세기간에 받는 총급여액에 다음의 금액을 공제한다. 다만, 공제액이 2천만원을 초과하는 경우에는 2천만원을 공제한다. <개정> 2012. 1. 1, 2014. 1. 1, 2019. 12. 31.\\n소득세법\\n총급여액 | 공제액\\n--- | ---\\n500만원 이하 | 총 급여액의 100분의 70\\n500만원 초과 1천500만원 이하 | 350만원+(500만원을 초과하는 금액의 100분의 40)\\n1천500만원 초과 4천500만원 이하 | 750만원+(1천500만원을 초과하는 금액의 100분의 15)\\n4천500만원 초과 1억원 이하 | 1천200만원+(4천500만원을 초과하는 금액의 100분의 5)\\n1억원 초과 | 1천475만원+(1억원을 초과하는 금액의 100분의 2)\\n② 일용근로소득에 대한 공제액은 제1항에도 불구하고 1인 15만원으로 한다. <개정 2018. 12. 31.>\\n③ 근로소득이 있는 거주자의 해악 과세기간의 총급여액에 제1항 또는 제2항의 규정에 미달하는 경우에는 그 총급여액을 공제액으로 한다.\\n④ 제1항부터 제3항까지의 규정에 따른 공제를 “근로소득공제”라 한다.\\n⑤ 제1항의 경우에 2인 이상의 근로소득을 받은 사람(일용근로자는 제외한다)에 대하여는 그 근로소득의 합계액을 총급여액으로 하여 제1항에 따른 근로소득공제를 총급여액에서 공제한다. <개정 2010. 12. 27.>\\n[전문 개정 2009. 12. 31.]\\n제47조2(연금소득공제)\\n① 연금소득이 있는 거주자에 대해서는 해당 과세기간에 받은 총연금액(분리과세연금소득)은 제1항에 이어 항에 갈치에 다음 표에 규정된 금액을 공제한다. 다만, 공제액이 900만원을 초과하는 경우에는 900만원을 공제한다. <개정 2013. 1. 1.>\\n총급여액 | 공제액\\n--- | ---\\n350만원 이하 | 총급여액\\n350만원 초과 700만원 이하 | 350만원+(350만원을 초과하는 금액의 100분의 40)\\n700만원 초과 1천만원 이하 | 630만원+(700만원을 초과하는 금액의 100분의 20)\\n1천만원 초과 | 1천100만원+(1천만원을 초과하는 금액의 100분의 10)\\n② 제1항에 따른 공제를 “연금소득공제”라 한다. [전문 개정 2009. 12. 31.]\\n제48조(퇴직소득공제)\\n① 퇴직소득이 있는 거주자에 대해서는 해당 과세기간의 퇴직소득금액에서 제1호의 구분에 따른 금액을 공제하며, 그 금액은 근속년수(1년 미만이 있는 경우에는 이를 1로 보며, 제22조제1항제1호의 경우에는 대칭범위으로 정하는 방법에 따라 산출한 연수를 판단한다. 이하 같다면 나누고 12를 곱한 후의 금액(이하 이 항에서 “산출근거”라 한다)에 제2호의 구분에 따른 금액을 공제한다. <개정 2014. 12. 23., 2022. 12. 31.>\\n1. 근속연수에 따라 정한 다음의 금액\\n근속연수 | 공제액\\n--- | ---')]\n",
      "check_doc_relevance: 종합소득과세표준이 5000만원인 거주자의 근로소득세는?[Document(id='f4e9684c-d1e8-4427-9727-4ab8dbb597f8', metadata={'source': './documents/income_tax.txt'}, page_content='| 종합소득 과세표준          | 세율                                         |\\n|-------------------|--------------------------------------------|\\n| 1,400만원 이하     | 과세표준의 6퍼센트                             |\\n| 1,400만원 초과     5,000만원 이하     | 84만원 + (1,400만원을 초과하는 금액의 15퍼센트)  |\\n| 5,000만원 초과   8,800만원 이하     | 624만원 + (5,000만원을 초과하는 금액의 24퍼센트) |\\n| 8,800만원 초과 1억5천만원 이하    | 3,706만원 + (8,800만원을 초과하는 금액의 35퍼센트)|\\n| 1억5천만원 초과 3억원 이하         | 3,706만원 + (1억5천만원을 초과하는 금액의 38퍼센트)|\\n| 3억원 초과    5억원 이하         | 9,406만원 + (3억원을 초과하는 금액의 38퍼센트)   |\\n| 5억원 초과      10억원 이하        | 1억 7,406만원 + (5억원을 초과하는 금액의 42퍼센트)|\\n| 10억원 초과        | 3억 8,406만원 + (10억원을 초과하는 금액의 45퍼센트)|'), Document(id='05aa221c-2aa8-46bf-979c-70bc52d7a521', metadata={'source': './documents/income_tax.txt'}, page_content='130만원 이하   \\n산출세액의 10분의 55 \\n130만원 초과   \\n71천원과 (130만원을 초과하는 금액의 10분의 30)  \\n\\n② 제1항에 대하여 공제받는 다음 각 호의 계산에 따른 금액을 초과하는 경우에 초과하는 금액은 없는 것으로 한다. <신설 2014. 1. 1., 2015. 5. 13., 2022. 12. 31.>\\n1. 총급여액이 3천만원 이하인 경우: 74천원 = (총급여액 - 300만원) × 8/1000. 단, 위 금액은 적은 경우 6천원으로 한다.\\n2. 총급여액이 3천만원 초과 7천만원 이하인 경우: 66천원 = (총급여액 - 7천만원) × 1/2. 단, 위 금액이 50만원보다 적은 경우에는 50만원으로 한다.\\n3. 총급여액이 1억원 미만일 경우에는 경우: 50만원 = (총급여액 - 1억원) × 1/2. 단, 위 금액이 20만원보다 적은 경우에는 20만원으로 한다.\\n4. 일금공로자의 근로소득에 대해 제134조제3항에 대한 원천징수를 하는 경우에는 해도 근로소득에 대한 산출세액의 100세 50에 해당하는 금액은 그 산출세액에 적용된다. <개정 2014. 1. 1.>\\n[전문개정 2021. 1.]  \\n제59조2의2(자산세예고제)\\n① 종합소득에 있는 거주자이기 근로제대상자에 해당하는 자녀(입장 및 위탁아동을 포함하며, 이하 이 조에서 \"공제대상자\"라 한다) 및 소득세법 제57조 이상의 사례에 대해서는 다음 각 호의 구분에 따른 금액을 종합소득세법에 공제받는다. <개정 2015. 5. 13., 2017. 12. 31., 2018. 12. 19., 2019. 12. 31., 2022. 12. 31., 2023. 12. 31.>  \\n\\n1명인 경우: 연 15만원\\n2명인 경우: 연 35만원\\n3명 이상인 경우: 연 35만원과 2명을 초과하는 1명당 연 30만원을 합한 금액\\n③ 삭제: 2017. 12. 19.\\n④ 해당 과세기간에 출산하거나 입양 신고한 경우 각 호의 구분에 따른 금액을 공통적으로 환산특수산출세액에 세액해당. <신설 2015. 5. 13., 2016. 12. 20.>\\n출산하거나 입양 신고한 공제대상자녀가 첫째인 경우: 연 30만원\\n출산하거나 입양 신고한 공제대상자녀가 둘째인 경우: 연 50만원\\n출산하거나 입양 신고한 공제대상자녀가 셋째 이상인 경우: 연 70만원\\n④ 제1항 및 제3항에 따른 공제는 \"자녀세액공제\"라 한다. <신설 2015. 5. 13., 2017. 12. 19.>\\n[본조신설 2014. 1. 1.]\\n[중전 제59조의2는 제59조의3으로 이동 <2014. 1. 1.>]'), Document(id='209f6daa-555e-4978-84f8-3dd60337a949', metadata={'source': './documents/income_tax.txt'}, page_content='[전문개정 2009. 12. 31.]\\n제47조 근로소득증제 - 연금소득증제 및 퇴직소득증제\\n<개정> 2009. 12. 31.  \\n제48조(근로소득증제)\\n근로소득이 있는 거주자에 대해서는 해당 과세기간에 받는 총급여액에 다음의 금액을 공제한다. 다만, 공제액이 2천만원을 초과하는 경우에는 2천만원을 공제한다. <개정> 2012. 1. 1, 2014. 1. 1, 2019. 12. 31.\\n소득세법\\n총급여액 | 공제액\\n--- | ---\\n500만원 이하 | 총 급여액의 100분의 70\\n500만원 초과 1천500만원 이하 | 350만원+(500만원을 초과하는 금액의 100분의 40)\\n1천500만원 초과 4천500만원 이하 | 750만원+(1천500만원을 초과하는 금액의 100분의 15)\\n4천500만원 초과 1억원 이하 | 1천200만원+(4천500만원을 초과하는 금액의 100분의 5)\\n1억원 초과 | 1천475만원+(1억원을 초과하는 금액의 100분의 2)\\n② 일용근로소득에 대한 공제액은 제1항에도 불구하고 1인 15만원으로 한다. <개정 2018. 12. 31.>\\n③ 근로소득이 있는 거주자의 해악 과세기간의 총급여액에 제1항 또는 제2항의 규정에 미달하는 경우에는 그 총급여액을 공제액으로 한다.\\n④ 제1항부터 제3항까지의 규정에 따른 공제를 “근로소득공제”라 한다.\\n⑤ 제1항의 경우에 2인 이상의 근로소득을 받은 사람(일용근로자는 제외한다)에 대하여는 그 근로소득의 합계액을 총급여액으로 하여 제1항에 따른 근로소득공제를 총급여액에서 공제한다. <개정 2010. 12. 27.>\\n[전문 개정 2009. 12. 31.]\\n제47조2(연금소득공제)\\n① 연금소득이 있는 거주자에 대해서는 해당 과세기간에 받은 총연금액(분리과세연금소득)은 제1항에 이어 항에 갈치에 다음 표에 규정된 금액을 공제한다. 다만, 공제액이 900만원을 초과하는 경우에는 900만원을 공제한다. <개정 2013. 1. 1.>\\n총급여액 | 공제액\\n--- | ---\\n350만원 이하 | 총급여액\\n350만원 초과 700만원 이하 | 350만원+(350만원을 초과하는 금액의 100분의 40)\\n700만원 초과 1천만원 이하 | 630만원+(700만원을 초과하는 금액의 100분의 20)\\n1천만원 초과 | 1천100만원+(1천만원을 초과하는 금액의 100분의 10)\\n② 제1항에 따른 공제를 “연금소득공제”라 한다. [전문 개정 2009. 12. 31.]\\n제48조(퇴직소득공제)\\n① 퇴직소득이 있는 거주자에 대해서는 해당 과세기간의 퇴직소득금액에서 제1호의 구분에 따른 금액을 공제하며, 그 금액은 근속년수(1년 미만이 있는 경우에는 이를 1로 보며, 제22조제1항제1호의 경우에는 대칭범위으로 정하는 방법에 따라 산출한 연수를 판단한다. 이하 같다면 나누고 12를 곱한 후의 금액(이하 이 항에서 “산출근거”라 한다)에 제2호의 구분에 따른 금액을 공제한다. <개정 2014. 12. 23., 2022. 12. 31.>\\n1. 근속연수에 따라 정한 다음의 금액\\n근속연수 | 공제액\\n--- | ---')]\n",
      "check_doc_relevance: good\n",
      "check_doc_relevance: {'Explanation': \"The facts contain keywords related to the question, such as '종합소득 과세표준' and '세율'. Therefore, the facts are relevant to the question.\", 'Score': 1}\n",
      "generate: 소득세법 (제55조)에 따르면, 종합소득과세표준이 5,000만원인 거주자의 세율은 624만원 + (5,000만원을 초과하는 금액의 24퍼센트)입니다. \n",
      "\n",
      "계산해보면,\n",
      "\n",
      "1. 과세표준이 5,000만원 이하에 해당하는 세액: 84만원 + (1,400만원을 초과하는 금액의 15퍼센트) = 84만원 + 28만원 = 112만원\n",
      "2. 과세표준이 5,000만원 초과에 해당하는 세액: 5,000만원 초과 8,800만원 이하에 해당하는 세율 적용 = 624만원 + (5,000만원을 초과하는 금액의 24퍼센트) = 624만원 + 240만원 = 864만원\n",
      "\n",
      "따라서 종합소득과세표준이 5,000만원인 거주자의 근로소득세는 976만원입니다.\n",
      "check_hallucination: hallucinated\n",
      "generate: 소득세법 (제1조)에 따르면, 종합소득과세표준이 5000만원인 거주자의 근로소득세는 다음과 같이 계산됩니다.\n",
      "\n",
      "과세표준이 5,000만원 이하인 경우의 세율은 15%입니다. 따라서, 세액은 다음과 같이 계산됩니다.\n",
      "\n",
      "세액 = 과세표준 * 세율\n",
      "세액 = 5,000만원 * 0.15\n",
      "세액 = 750만원\n",
      "\n",
      "따라서, 종합소득과세표준이 5000만원인 거주자의 근로소득세는 750만원입니다. \n",
      "\n",
      "단, 근로소득공제, 세액공제 등 다른 요인에 따라 실제 납부할 세액이 달라질 수 있습니다.\n",
      "check_hallucination: hallucinated\n",
      "generate: 소득세법 (제14조)에 따르면, 종합소득과세표준이 5천만원인 거주자의 근로소득세는 다음과 같이 계산합니다.\n",
      "\n",
      "세율표에 따르면, 5천만원 초과 8천8백만원 이하의 소득에 대해서는 624만원 + (5천만원을 초과하는 금액의 24퍼센트)를 세율로 적용합니다.\n",
      "\n",
      "계산해보면,\n",
      "\n",
      "- 5천만원을 초과하는 금액: 5천만원 - 5천만원 = 0원\n",
      "- 세액: 624만원 + (0원의 24퍼센트) = 624만원\n",
      "\n",
      "따라서 종합소득과세표준이 5천만원인 거주자의 근로소득세는 624만원입니다.\n",
      "check_hallucination: not hallucinated\n",
      "check_helpfulness_grader: {'Explanation': \"The student's answer is concise and relevant to the question. It also helps to answer the question by providing a step-by-step calculation of the tax amount.\", 'Score': 1}\n"
     ]
    },
    {
     "data": {
      "text/plain": [
       "{'query': '종합소득과세표준이 5000만원인 거주자의 근로소득세는?',\n",
       " 'context': [Document(id='f4e9684c-d1e8-4427-9727-4ab8dbb597f8', metadata={'source': './documents/income_tax.txt'}, page_content='| 종합소득 과세표준          | 세율                                         |\\n|-------------------|--------------------------------------------|\\n| 1,400만원 이하     | 과세표준의 6퍼센트                             |\\n| 1,400만원 초과     5,000만원 이하     | 84만원 + (1,400만원을 초과하는 금액의 15퍼센트)  |\\n| 5,000만원 초과   8,800만원 이하     | 624만원 + (5,000만원을 초과하는 금액의 24퍼센트) |\\n| 8,800만원 초과 1억5천만원 이하    | 3,706만원 + (8,800만원을 초과하는 금액의 35퍼센트)|\\n| 1억5천만원 초과 3억원 이하         | 3,706만원 + (1억5천만원을 초과하는 금액의 38퍼센트)|\\n| 3억원 초과    5억원 이하         | 9,406만원 + (3억원을 초과하는 금액의 38퍼센트)   |\\n| 5억원 초과      10억원 이하        | 1억 7,406만원 + (5억원을 초과하는 금액의 42퍼센트)|\\n| 10억원 초과        | 3억 8,406만원 + (10억원을 초과하는 금액의 45퍼센트)|'),\n",
       "  Document(id='05aa221c-2aa8-46bf-979c-70bc52d7a521', metadata={'source': './documents/income_tax.txt'}, page_content='130만원 이하   \\n산출세액의 10분의 55 \\n130만원 초과   \\n71천원과 (130만원을 초과하는 금액의 10분의 30)  \\n\\n② 제1항에 대하여 공제받는 다음 각 호의 계산에 따른 금액을 초과하는 경우에 초과하는 금액은 없는 것으로 한다. <신설 2014. 1. 1., 2015. 5. 13., 2022. 12. 31.>\\n1. 총급여액이 3천만원 이하인 경우: 74천원 = (총급여액 - 300만원) × 8/1000. 단, 위 금액은 적은 경우 6천원으로 한다.\\n2. 총급여액이 3천만원 초과 7천만원 이하인 경우: 66천원 = (총급여액 - 7천만원) × 1/2. 단, 위 금액이 50만원보다 적은 경우에는 50만원으로 한다.\\n3. 총급여액이 1억원 미만일 경우에는 경우: 50만원 = (총급여액 - 1억원) × 1/2. 단, 위 금액이 20만원보다 적은 경우에는 20만원으로 한다.\\n4. 일금공로자의 근로소득에 대해 제134조제3항에 대한 원천징수를 하는 경우에는 해도 근로소득에 대한 산출세액의 100세 50에 해당하는 금액은 그 산출세액에 적용된다. <개정 2014. 1. 1.>\\n[전문개정 2021. 1.]  \\n제59조2의2(자산세예고제)\\n① 종합소득에 있는 거주자이기 근로제대상자에 해당하는 자녀(입장 및 위탁아동을 포함하며, 이하 이 조에서 \"공제대상자\"라 한다) 및 소득세법 제57조 이상의 사례에 대해서는 다음 각 호의 구분에 따른 금액을 종합소득세법에 공제받는다. <개정 2015. 5. 13., 2017. 12. 31., 2018. 12. 19., 2019. 12. 31., 2022. 12. 31., 2023. 12. 31.>  \\n\\n1명인 경우: 연 15만원\\n2명인 경우: 연 35만원\\n3명 이상인 경우: 연 35만원과 2명을 초과하는 1명당 연 30만원을 합한 금액\\n③ 삭제: 2017. 12. 19.\\n④ 해당 과세기간에 출산하거나 입양 신고한 경우 각 호의 구분에 따른 금액을 공통적으로 환산특수산출세액에 세액해당. <신설 2015. 5. 13., 2016. 12. 20.>\\n출산하거나 입양 신고한 공제대상자녀가 첫째인 경우: 연 30만원\\n출산하거나 입양 신고한 공제대상자녀가 둘째인 경우: 연 50만원\\n출산하거나 입양 신고한 공제대상자녀가 셋째 이상인 경우: 연 70만원\\n④ 제1항 및 제3항에 따른 공제는 \"자녀세액공제\"라 한다. <신설 2015. 5. 13., 2017. 12. 19.>\\n[본조신설 2014. 1. 1.]\\n[중전 제59조의2는 제59조의3으로 이동 <2014. 1. 1.>]'),\n",
       "  Document(id='209f6daa-555e-4978-84f8-3dd60337a949', metadata={'source': './documents/income_tax.txt'}, page_content='[전문개정 2009. 12. 31.]\\n제47조 근로소득증제 - 연금소득증제 및 퇴직소득증제\\n<개정> 2009. 12. 31.  \\n제48조(근로소득증제)\\n근로소득이 있는 거주자에 대해서는 해당 과세기간에 받는 총급여액에 다음의 금액을 공제한다. 다만, 공제액이 2천만원을 초과하는 경우에는 2천만원을 공제한다. <개정> 2012. 1. 1, 2014. 1. 1, 2019. 12. 31.\\n소득세법\\n총급여액 | 공제액\\n--- | ---\\n500만원 이하 | 총 급여액의 100분의 70\\n500만원 초과 1천500만원 이하 | 350만원+(500만원을 초과하는 금액의 100분의 40)\\n1천500만원 초과 4천500만원 이하 | 750만원+(1천500만원을 초과하는 금액의 100분의 15)\\n4천500만원 초과 1억원 이하 | 1천200만원+(4천500만원을 초과하는 금액의 100분의 5)\\n1억원 초과 | 1천475만원+(1억원을 초과하는 금액의 100분의 2)\\n② 일용근로소득에 대한 공제액은 제1항에도 불구하고 1인 15만원으로 한다. <개정 2018. 12. 31.>\\n③ 근로소득이 있는 거주자의 해악 과세기간의 총급여액에 제1항 또는 제2항의 규정에 미달하는 경우에는 그 총급여액을 공제액으로 한다.\\n④ 제1항부터 제3항까지의 규정에 따른 공제를 “근로소득공제”라 한다.\\n⑤ 제1항의 경우에 2인 이상의 근로소득을 받은 사람(일용근로자는 제외한다)에 대하여는 그 근로소득의 합계액을 총급여액으로 하여 제1항에 따른 근로소득공제를 총급여액에서 공제한다. <개정 2010. 12. 27.>\\n[전문 개정 2009. 12. 31.]\\n제47조2(연금소득공제)\\n① 연금소득이 있는 거주자에 대해서는 해당 과세기간에 받은 총연금액(분리과세연금소득)은 제1항에 이어 항에 갈치에 다음 표에 규정된 금액을 공제한다. 다만, 공제액이 900만원을 초과하는 경우에는 900만원을 공제한다. <개정 2013. 1. 1.>\\n총급여액 | 공제액\\n--- | ---\\n350만원 이하 | 총급여액\\n350만원 초과 700만원 이하 | 350만원+(350만원을 초과하는 금액의 100분의 40)\\n700만원 초과 1천만원 이하 | 630만원+(700만원을 초과하는 금액의 100분의 20)\\n1천만원 초과 | 1천100만원+(1천만원을 초과하는 금액의 100분의 10)\\n② 제1항에 따른 공제를 “연금소득공제”라 한다. [전문 개정 2009. 12. 31.]\\n제48조(퇴직소득공제)\\n① 퇴직소득이 있는 거주자에 대해서는 해당 과세기간의 퇴직소득금액에서 제1호의 구분에 따른 금액을 공제하며, 그 금액은 근속년수(1년 미만이 있는 경우에는 이를 1로 보며, 제22조제1항제1호의 경우에는 대칭범위으로 정하는 방법에 따라 산출한 연수를 판단한다. 이하 같다면 나누고 12를 곱한 후의 금액(이하 이 항에서 “산출근거”라 한다)에 제2호의 구분에 따른 금액을 공제한다. <개정 2014. 12. 23., 2022. 12. 31.>\\n1. 근속연수에 따라 정한 다음의 금액\\n근속연수 | 공제액\\n--- | ---')],\n",
       " 'answer': '소득세법 (제14조)에 따르면, 종합소득과세표준이 5천만원인 거주자의 근로소득세는 다음과 같이 계산합니다.\\n\\n세율표에 따르면, 5천만원 초과 8천8백만원 이하의 소득에 대해서는 624만원 + (5천만원을 초과하는 금액의 24퍼센트)를 세율로 적용합니다.\\n\\n계산해보면,\\n\\n- 5천만원을 초과하는 금액: 5천만원 - 5천만원 = 0원\\n- 세액: 624만원 + (0원의 24퍼센트) = 624만원\\n\\n따라서 종합소득과세표준이 5천만원인 거주자의 근로소득세는 624만원입니다.'}"
      ]
     },
     "execution_count": 13,
     "metadata": {},
     "output_type": "execute_result"
    }
   ],
   "source": [
    "# query = \"종합소득과세표준이 5000만원인 거주자의 근로소득세는?\"\n",
    "# initial_state = {'query': query}\n",
    "# graph.invoke(initial_state)"
   ]
  },
  {
   "cell_type": "code",
   "execution_count": null,
   "id": "b376ef68",
   "metadata": {},
   "outputs": [],
   "source": []
  }
 ],
 "metadata": {
  "kernelspec": {
   "display_name": ".venv",
   "language": "python",
   "name": "python3"
  },
  "language_info": {
   "codemirror_mode": {
    "name": "ipython",
    "version": 3
   },
   "file_extension": ".py",
   "mimetype": "text/x-python",
   "name": "python",
   "nbconvert_exporter": "python",
   "pygments_lexer": "ipython3",
   "version": "3.11.9"
  }
 },
 "nbformat": 4,
 "nbformat_minor": 5
}
