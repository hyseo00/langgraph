{
 "cells": [
  {
   "cell_type": "code",
   "execution_count": 1,
   "id": "bcb703c1",
   "metadata": {},
   "outputs": [
    {
     "data": {
      "text/plain": [
       "True"
      ]
     },
     "execution_count": 1,
     "metadata": {},
     "output_type": "execute_result"
    }
   ],
   "source": [
    "from dotenv import load_dotenv\n",
    "\n",
    "load_dotenv()"
   ]
  },
  {
   "cell_type": "code",
   "execution_count": 2,
   "id": "49ab4ac2",
   "metadata": {},
   "outputs": [],
   "source": [
    "from langchain_upstage import UpstageEmbeddings\n",
    "from langchain_chroma import Chroma\n",
    "\n",
    "embeddings = UpstageEmbeddings(model=\"solar-embedding-1-large\")\n",
    "\n",
    "vector_store = Chroma(collection_name=\"income_tax_collection\",\n",
    "                      embedding_function=embeddings,\n",
    "                      persist_directory=\"./income_tax_collection\")\n",
    "\n",
    "retriever = vector_store.as_retriever(search_kwargs={'k': 3})"
   ]
  },
  {
   "cell_type": "code",
   "execution_count": 3,
   "id": "0fc747f8",
   "metadata": {},
   "outputs": [],
   "source": [
    "from langchain_upstage import ChatUpstage\n",
    "from typing_extensions import TypedDict\n",
    "from langgraph.graph import StateGraph\n",
    "\n",
    "class AgentState(TypedDict):\n",
    "    query: str\n",
    "    context: list\n",
    "    answer: str\n",
    "\n",
    "graph_builder = StateGraph(AgentState)\n",
    "llm = ChatUpstage()"
   ]
  },
  {
   "cell_type": "code",
   "execution_count": 4,
   "id": "27211db8",
   "metadata": {},
   "outputs": [],
   "source": [
    "def retrieve(state: AgentState) -> AgentState:\n",
    "    query = state['query']\n",
    "    docs = retriever.invoke(query)\n",
    "    print(f\"retrieve: {docs}\")\n",
    "    return {'context': docs}"
   ]
  },
  {
   "cell_type": "code",
   "execution_count": null,
   "id": "e5abf2cf",
   "metadata": {},
   "outputs": [
    {
     "name": "stderr",
     "output_type": "stream",
     "text": [
      "c:\\Users\\hyunseo\\Desktop\\learn_langgraph\\.venv\\Lib\\site-packages\\langsmith\\client.py:272: LangSmithMissingAPIKeyWarning: API key must be provided when using hosted LangSmith API\n",
      "  warnings.warn(\n"
     ]
    }
   ],
   "source": [
    "from typing import Literal\n",
    "from langchain import hub\n",
    "from langchain_core.prompts import PromptTemplate\n",
    "\n",
    "doc_relevance_prompt = hub.pull(\"langchain-ai/rag-document-relevance\")\n",
    "\n",
    "def check_doc_relevance(state: AgentState) -> Literal['relevant', 'irrelevant']:\n",
    "    query = state['query']\n",
    "    context = state['context']\n",
    "    print(f\"check_doc_relevance: {query}{context}\")\n",
    "    doc_relevance_chain = doc_relevance_prompt | llm\n",
    "    response = doc_relevance_chain.invoke({'question': query, 'documents': context})\n",
    "    print(f\"check_doc_relevance: {response}\")\n",
    "    if response:\n",
    "        if response['Score'] == 1:\n",
    "            return 'relevant'\n",
    "        else:\n",
    "            return 'irrelevant'\n",
    "    else:\n",
    "        return 'irrelevant'"
   ]
  },
  {
   "cell_type": "code",
   "execution_count": 6,
   "id": "de9ba3a9",
   "metadata": {},
   "outputs": [],
   "source": [
    "from langchain import hub\n",
    "from langchain_upstage import ChatUpstage\n",
    "from langchain_core.output_parsers import StrOutputParser\n",
    "from langchain_core.prompts import PromptTemplate\n",
    "\n",
    "generate_prompt = PromptTemplate.from_template(f\"\"\"\n",
    "    [Identity]\n",
    "    \"당신은 소득세법 전문가입니다. 사용자의 소득세법에 관한 질문에 답변해주세요\"\n",
    "    \"아래에 제공된 문서를 활용해서 답변해주시고\"\n",
    "    \"답변을 알 수 없다면 모른다고 답변해주세요\"\n",
    "    \"특히 소득세법 전문가이기 때문에 수학계산을 정확히 해주시길 바랍니다.\"\n",
    "    \"답변을 제공할 때는 소득세법 (XX조)에 따르면 이라고 시작하면서 답변해주세요.\"\n",
    "        \n",
    "    [Context]\n",
    "    {{context}}\n",
    "    \n",
    "    Question: {{question}}\n",
    "\"\"\" \n",
    ")\n",
    "\n",
    "def generate(state: AgentState) -> AgentState:\n",
    "    query = state['query']\n",
    "    context = state['context']\n",
    "    # 이곳에 StrOutputParser를 붙이지 않으면 rag_chain의 결과가 llm의 답변인 Message 객체가 됨\n",
    "    # 하지만 우리 state에서 'answer'의 type은 str이므로 str로 바꿔줘야함\n",
    "    # 여기서는 바꾸지 않아도 에러가 안나지만 에러가 날 때도 있다고 한다. 그건 나중에 공부해보자자\n",
    "    rag_chain = generate_prompt | llm | StrOutputParser()\n",
    "    response = rag_chain.invoke({'question': query, 'context': context})\n",
    "    print(f\"generate: {response}\")\n",
    "    return {'answer': response}"
   ]
  },
  {
   "cell_type": "code",
   "execution_count": 7,
   "id": "d2ff1be2",
   "metadata": {},
   "outputs": [],
   "source": [
    "from langchain_core.prompts import PromptTemplate\n",
    "from langchain_core.output_parsers import StrOutputParser\n",
    "\n",
    "rewrite_prompt = PromptTemplate.from_template(f\"\"\"\n",
    "    사용자의 질문을 보고, 웹 검색에 용이하게 사용자의 질문을 수정해주세요.\n",
    "    답변은 **오직 수정된 질문만** 리턴해주세요.\n",
    "    질문: {{query}}\n",
    "    \"\"\"\n",
    ")\n",
    "\n",
    "def rewrite(state: AgentState) -> AgentState:\n",
    "    query = state['query']\n",
    "    rewrite_chain = rewrite_prompt | llm | StrOutputParser()\n",
    "    response = rewrite_chain.invoke({'query': query})\n",
    "    print(f\"rewrite: {response}\")\n",
    "    return {'query': response}"
   ]
  },
  {
   "cell_type": "code",
   "execution_count": 8,
   "id": "a1c6ada4",
   "metadata": {},
   "outputs": [],
   "source": [
    "from langchain_tavily import TavilySearch\n",
    "\n",
    "tavily_search_tool = TavilySearch(\n",
    "    max_results=3,\n",
    "    topic=\"general\",\n",
    ")\n",
    "\n",
    "def web_search(state: AgentState) -> AgentState:\n",
    "    query = state['query']\n",
    "    results = tavily_search_tool.invoke(query)\n",
    "    print(f\"web_search: {results}\")\n",
    "    return {'context': results}"
   ]
  },
  {
   "cell_type": "code",
   "execution_count": 9,
   "id": "e05ec4e0",
   "metadata": {},
   "outputs": [
    {
     "data": {
      "text/plain": [
       "<langgraph.graph.state.StateGraph at 0x1e3a7221ed0>"
      ]
     },
     "execution_count": 9,
     "metadata": {},
     "output_type": "execute_result"
    }
   ],
   "source": [
    "graph_builder.add_node('retrieve', retrieve)\n",
    "graph_builder.add_node('generate', generate)\n",
    "graph_builder.add_node('rewrite', rewrite)\n",
    "graph_builder.add_node('web_search', web_search)"
   ]
  },
  {
   "cell_type": "code",
   "execution_count": 10,
   "id": "46332f7e",
   "metadata": {},
   "outputs": [
    {
     "data": {
      "text/plain": [
       "<langgraph.graph.state.StateGraph at 0x1e3a7221ed0>"
      ]
     },
     "execution_count": 10,
     "metadata": {},
     "output_type": "execute_result"
    }
   ],
   "source": [
    "from langgraph.graph import START, END\n",
    "\n",
    "graph_builder.add_edge(START, 'retrieve')\n",
    "graph_builder.add_conditional_edges(\n",
    "    'retrieve',\n",
    "    check_doc_relevance,\n",
    "    {'relevant': 'generate', \n",
    "     'irrelevant': 'rewrite'}\n",
    ")\n",
    "graph_builder.add_edge('generate', END)\n",
    "graph_builder.add_edge('rewrite', 'web_search')\n",
    "graph_builder.add_edge('web_search', 'generate')\n"
   ]
  },
  {
   "cell_type": "code",
   "execution_count": 11,
   "id": "a747d89a",
   "metadata": {},
   "outputs": [],
   "source": [
    "# from IPython.display import Image, display\n",
    "\n",
    "graph = graph_builder.compile()\n",
    "\n",
    "# display(Image(graph.get_graph().draw_mermaid_png()))"
   ]
  },
  {
   "cell_type": "code",
   "execution_count": 12,
   "id": "396f09de",
   "metadata": {},
   "outputs": [
    {
     "name": "stdout",
     "output_type": "stream",
     "text": [
      "retrieve: [Document(id='97139ac5-ced4-4c42-a413-2854df6f98b3', metadata={'source': './documents/income_tax.txt'}, page_content='범죄처 122 국가법정정보센터\\n한다. <개정 2009. 12. 31, 2010. 12. 27.>\\n⑥ 사업자(법인은 포함한다. 이하 이 약에서 같다)가 음식, 숙박용역이나 서비스용역을 공급하고 그 대가를 받을 때 지정제한법에 따른 봉사료를 포함하여 하여야 소득세가 그 사업자에게 대한 소득세를 원천징수하여야 한다. <개정 2009. 12. 31, 2010. 12. 27.>\\n⑦ 제정부칙 제향까지의 규정에 이어야 할 자를 “원천징수의무자”라 한다. <개정 2010. 12. 27.>\\n⑧ 원천징수의무자의 범위 등 밖에 필요한 사항을 대통령령으로 정한다. <신설 2013. 1. 1.> \\n[제목개정 2009. 12. 31]\\n제127조(원천징수의무) \\n국내에서 거주자나 비거주자에게 다음 각 호의 어느 하나에 해당하는 소득을 지급하는 자(제3호 또는 제4호의 소득을 지급하는 자의 경우에는 사업자)는 대통령령으로 정하는 바에 의하여 그 사업자가 그 소득세를 원천징수하여야 한다. <개정 2009. 12. 31, 2010. 12. 27, 2015. 12. 15, 2020. 12. 29.>\\n1. 이자소득\\n2. 배당소득\\n3. 대여금융소득을 정의하는 사업소득(이하 “원천징수대상 사업소득”이라 한다)\\n4. 근로소득. 다만, 다음 각 목의 어느 하나에 해당하는 소득은 제외한다.\\n  가. 외국에서 은퇴연금에 주도록 지정한(미국의 제정법으로부터 받는 근로소득\\n  나. 국외에 있는 비거주자 또는 규격법인(국내법인 또는 국내영업소를 지정하지 아니하게)은 다만, 다음의 어느 하나에 해당하는 소득은 제외한다.\\n  1) 제120조제1항 및 제122항의 비거주자와 국내사업자가 “법인세법” 제94조제1항 및 제126항의 외국법인의 국내사업장에 있었던 원천징수소득금액을 계산할 때 필요한 손금으로 계산하는 소득\\n  2) 국외에 있는 외국법인(거주지의 적이 있는 국내영업소는 제외하는 것으로 제156조에 의하여 소득세가 원천징수되는 파격근로자의 소득\\n5. 연금소득\\n6. 기타소득. 다만, 다음 각 목의 어느 하나에 해당하는 소득은 제외한다.\\n  가. 제80조에 따른 소득\\n  나. 제81조제1항제10호에 따른 위약금·배상금(계약의 위반과 배상금으로 대체되는 경우만 해당한다)\\n  다. 제81조제1항제2조, 제82조 또는 제87조에 따른 소득\\n7. 퇴직소득. 다만, 제54조 각 목의 어느 하나에 해당하는 근로소득이 있는 사람이 퇴직함으로써 받는 소득은 제외한다.\\n8. 대통령령으로 정하는 봉사소득\\n9. 금용대리로 정의하는 금융부동소득\\n제127조의3(원천징수) \\n제134회에 따른 원천징수하여야 할 자에게 대한 소득의 경우에는 사업자 대통령령으로 정하는 자로 한정할 방법 달리한다. 그러므로 이 행위의 수급(受給)이 본인의 범위에서 본인의 행위로 보아 지원을 요구한다. <개정 2010. 12. 31, 2010. 12. 27.>'), Document(id='a55a118d-09a6-4206-8774-e9b77aa7c98f', metadata={'source': './documents/income_tax.txt'}, page_content='가. 국가·지방자치단체 및 내부법인이 발생하는 체권에서 발생하는 이하소득: 지급금이익의 100분의 14\\n나. 가구 외의 이하소득: 지급금이익의 100분의 20\\n다. 제119조제2호에 따른 국내배선 선택과정소득: 지급금이익의 100분의 20\\n라. 제119조제4호에 따른 국내배선 사업소득: 지급금이익의 100분의 20\\n마. 제119조제6호에 따른 국내배선 인적용역소득: 지급금이익의 100분의 20. 단, 국외에 제공하는 인적용역 중 대통형론을 정하는 용역은 지급금으로 발생하는 소득이 조세조약에 따라 국내에서 발생하는 것으로 보토 소득에 대해서는 그 지급금이익의 100분의 30으로 한다.\\n바. 제119조제9호에 따른 국내배선 부동산소득: 지급금이익의 100분의 10. 단, 양도한 자산의 취득가액 및 양도인이 확정되는 경우에는 그 지급금이익의 100분의 10에 해당하는 금액과 자산의 양도자의 100분의 20에 해당하는 금액 중 적은 금액으로 한다.\\n사. 제119조제10호에 따른 국내배선 사용료소득: 지급금이익의 100분의 20\\n아. 제119조제11호에 따른 국내배선 유가증권소득: 지급금이익(제126조제6항에 해당하는 경우에는 같은 항의 정 상가로 한 대. 이하 이 호에서 같다) 100분의 10. 단, 제126조제10항에 따라 해당 유가증권의 취득가액 명의로의 확인되는 경우에는 그 지급금이익의 100분의 10에 해당하는 금액을 초에 따라 자산상의 지급금이익의 100분의 20에 해당하는 금액 중 적은 금액으로 한다.\\n자. 제119조제12호에 따른 국내배선 기타소득: 다음 각 목의 구분에 따른 금액 \\n카. 제119조제12부관의 소득: 지급금이익의 100분의 15\\n타. 제119조제12부가의 소득: 다음의 구분에 따라 금액. 단, 가상자산을 교환하거나 인출하는 경우에는 다음의 구분에 상장하는 금액으로 가상자산의 대표대응소득으로 정하는 금액으로 한다.\\n1) 제126조제3항제3호에 따라 가상자산의 필요용량이 확정되는 경우: 지급금이익의 100분의 10에 해당하는 금액과 제126조제3항제3호에 따라 가상자산의 필요용량이 확정되지 않는 경우: 지급금이익의 100분의 10\\n2) 제126조제3항제4호에 따른 가상자산이 필요용량이 확정되지 않는 경우: 지급금이익의 100분의 20\\n차. 가구 및 가축 외의 기타소득: 지급금이익(제126조제12조에 따른 금액 - 부상 등에 대해서는 같은 금액에 따라 예산 금액으로 한다) 100분의 20\\n상기 <2022. 12. 31.>\\n4. 제119조에 규정하는 국내배선소득의 지급되는 경우에 그 지급자가 국내에 주소, 거소, 본점, 지사우소 등을 국내내사함법 제4조에 규정된 국내사무장으로 포함한다는 경우에는 그 지급자가 해당 국내배선소득을 국내에서 지급하는 것으로 보고 제119조를 적용한다. <개정 2010. 12. 27.>\\n법제처 141 국가법령정보센터\\n소 득 세 번'), Document(id='7860c617-9818-48c2-9735-b0ddd743bb3a', metadata={'source': './documents/income_tax.txt'}, page_content='소득세법\\n[시행 2024. 7. 1.] [법률 제19933호, 2023. 12. 31., 일부개정]\\n기획재정부 (세제실세제과) 044-215-4312\\n기획재정부 (소득세제과) 044-215-4216\\n기획재정부 (음식세원과) 044-215-4233\\n기획재정부 (소득세과사원조사팀) 044-215-4217  \\n\\n제1장 총칙\\n제1조(목적)\\n이 법은 개인의 소득에 대하여 소득의 성격과 납세자의 부담능력 등에 따라 적정하게 과세함으로써 조세부담의 형평을 도모하고 재정수입의 원활한 조달에 이바지함을 목적으로 한다.\\n[본조신설 2009. 12. 31.]\\n[종전 제1조는 제2조로 이동 2009. 12. 31.]\\n제2조(정의)\\n① 이 법에서 사용하는 용어의 뜻은 다음과 같다. <개정 2010. 12. 27, 2014. 12. 23, 2018. 12. 31.>\\n1. \"거주자\"란 국내에 주소를 두거나 183일 이상 거소(居所)를 둔 개인을 말한다.\\n2. \"비거주자\"란 거주자가 아닌 개인을 말한다.\\n3. \"국내법인\"이란 법인세법 제2조제1호에 따른 내국법인을 말한다.\\n4. \"외국법인\"이란 법인세법 제2조제3호에 따른 외국법인을 말한다.\\n5. \"사업자\"란 사업소득이 있는 거주자를 말한다.\\n6. 제1항에 따른 주소·거소와 비거주자의 구분은 대통령령으로 정한다.\\n[본조신설 2009. 12. 31.]\\n제3조(납세의무)\\n다음 각 호의 어느 하나에 해당하는 개인은 이 법에 따라 각자의 소득에 대한 소득세를 납부할 의무를 진다.\\n1. 거주자\\n2. 비거주자\\n3. 법인\\n4. 외국법인은 국내사업소(출場所, 그 밖에 이에 준하는 것을 포함한다. 이하 같다)\\n5. 그 밖에 법에 의해 정하는 원천징수의무자\\n3. \"국세기본법\" 제33조제1항에 따른 법인이 아닌 단체 같은 제정법에 따른 법인은 보는 단체로 본다. \"법인은 보는 단체\"라 한다. 외의 법인이 아닌 단체는 국내에 주사무소 또는 사업의 실질적 관리장소를 두는 경우에는 1거래자로 본다. 그 밖에 각 단체마다 이 법을 적용한다. 다만, 다음 각 호의 어느 하나에 해당하는 경우에는 소득을 법인세법 제5조에 따른 법인 가운데 \"법인세법\"에 의하는 경우에도 법인의 소득세법에 따라 각 부문에 대한 법인의 납부할 의무를 진다. <개정 2010. 12. 27, 2013. 1. 1, 2018. 12. 31.>\\n6. 구성원 중 이의 원천의무를 정해져 있고 해당 구성원별로 이의 분배비율을 확인한 경우\\n7. 구성원 간 이의 분배비율이 정해져 있지 아니하나 사실상 구성원별 이의 분배비율로 확인되는 경우\\n제3항에도 불구하고 해당 단체의 전체 구성원 중 일부 구성원 분배비율이 확인되더라도 일부 구성원에 이의 분배되는 것으로 확인되는 경우에 다음 각 호의 사항에 따라 소득세 또는 법인세를 납부할 의무를 진다. <신설 2018. 12. 31.>\\n\\n법제처 1\\n소통세편')]\n",
      "check_doc_relevance: 역삼역 맛집을 추천해주세요.[Document(id='97139ac5-ced4-4c42-a413-2854df6f98b3', metadata={'source': './documents/income_tax.txt'}, page_content='범죄처 122 국가법정정보센터\\n한다. <개정 2009. 12. 31, 2010. 12. 27.>\\n⑥ 사업자(법인은 포함한다. 이하 이 약에서 같다)가 음식, 숙박용역이나 서비스용역을 공급하고 그 대가를 받을 때 지정제한법에 따른 봉사료를 포함하여 하여야 소득세가 그 사업자에게 대한 소득세를 원천징수하여야 한다. <개정 2009. 12. 31, 2010. 12. 27.>\\n⑦ 제정부칙 제향까지의 규정에 이어야 할 자를 “원천징수의무자”라 한다. <개정 2010. 12. 27.>\\n⑧ 원천징수의무자의 범위 등 밖에 필요한 사항을 대통령령으로 정한다. <신설 2013. 1. 1.> \\n[제목개정 2009. 12. 31]\\n제127조(원천징수의무) \\n국내에서 거주자나 비거주자에게 다음 각 호의 어느 하나에 해당하는 소득을 지급하는 자(제3호 또는 제4호의 소득을 지급하는 자의 경우에는 사업자)는 대통령령으로 정하는 바에 의하여 그 사업자가 그 소득세를 원천징수하여야 한다. <개정 2009. 12. 31, 2010. 12. 27, 2015. 12. 15, 2020. 12. 29.>\\n1. 이자소득\\n2. 배당소득\\n3. 대여금융소득을 정의하는 사업소득(이하 “원천징수대상 사업소득”이라 한다)\\n4. 근로소득. 다만, 다음 각 목의 어느 하나에 해당하는 소득은 제외한다.\\n  가. 외국에서 은퇴연금에 주도록 지정한(미국의 제정법으로부터 받는 근로소득\\n  나. 국외에 있는 비거주자 또는 규격법인(국내법인 또는 국내영업소를 지정하지 아니하게)은 다만, 다음의 어느 하나에 해당하는 소득은 제외한다.\\n  1) 제120조제1항 및 제122항의 비거주자와 국내사업자가 “법인세법” 제94조제1항 및 제126항의 외국법인의 국내사업장에 있었던 원천징수소득금액을 계산할 때 필요한 손금으로 계산하는 소득\\n  2) 국외에 있는 외국법인(거주지의 적이 있는 국내영업소는 제외하는 것으로 제156조에 의하여 소득세가 원천징수되는 파격근로자의 소득\\n5. 연금소득\\n6. 기타소득. 다만, 다음 각 목의 어느 하나에 해당하는 소득은 제외한다.\\n  가. 제80조에 따른 소득\\n  나. 제81조제1항제10호에 따른 위약금·배상금(계약의 위반과 배상금으로 대체되는 경우만 해당한다)\\n  다. 제81조제1항제2조, 제82조 또는 제87조에 따른 소득\\n7. 퇴직소득. 다만, 제54조 각 목의 어느 하나에 해당하는 근로소득이 있는 사람이 퇴직함으로써 받는 소득은 제외한다.\\n8. 대통령령으로 정하는 봉사소득\\n9. 금용대리로 정의하는 금융부동소득\\n제127조의3(원천징수) \\n제134회에 따른 원천징수하여야 할 자에게 대한 소득의 경우에는 사업자 대통령령으로 정하는 자로 한정할 방법 달리한다. 그러므로 이 행위의 수급(受給)이 본인의 범위에서 본인의 행위로 보아 지원을 요구한다. <개정 2010. 12. 31, 2010. 12. 27.>'), Document(id='a55a118d-09a6-4206-8774-e9b77aa7c98f', metadata={'source': './documents/income_tax.txt'}, page_content='가. 국가·지방자치단체 및 내부법인이 발생하는 체권에서 발생하는 이하소득: 지급금이익의 100분의 14\\n나. 가구 외의 이하소득: 지급금이익의 100분의 20\\n다. 제119조제2호에 따른 국내배선 선택과정소득: 지급금이익의 100분의 20\\n라. 제119조제4호에 따른 국내배선 사업소득: 지급금이익의 100분의 20\\n마. 제119조제6호에 따른 국내배선 인적용역소득: 지급금이익의 100분의 20. 단, 국외에 제공하는 인적용역 중 대통형론을 정하는 용역은 지급금으로 발생하는 소득이 조세조약에 따라 국내에서 발생하는 것으로 보토 소득에 대해서는 그 지급금이익의 100분의 30으로 한다.\\n바. 제119조제9호에 따른 국내배선 부동산소득: 지급금이익의 100분의 10. 단, 양도한 자산의 취득가액 및 양도인이 확정되는 경우에는 그 지급금이익의 100분의 10에 해당하는 금액과 자산의 양도자의 100분의 20에 해당하는 금액 중 적은 금액으로 한다.\\n사. 제119조제10호에 따른 국내배선 사용료소득: 지급금이익의 100분의 20\\n아. 제119조제11호에 따른 국내배선 유가증권소득: 지급금이익(제126조제6항에 해당하는 경우에는 같은 항의 정 상가로 한 대. 이하 이 호에서 같다) 100분의 10. 단, 제126조제10항에 따라 해당 유가증권의 취득가액 명의로의 확인되는 경우에는 그 지급금이익의 100분의 10에 해당하는 금액을 초에 따라 자산상의 지급금이익의 100분의 20에 해당하는 금액 중 적은 금액으로 한다.\\n자. 제119조제12호에 따른 국내배선 기타소득: 다음 각 목의 구분에 따른 금액 \\n카. 제119조제12부관의 소득: 지급금이익의 100분의 15\\n타. 제119조제12부가의 소득: 다음의 구분에 따라 금액. 단, 가상자산을 교환하거나 인출하는 경우에는 다음의 구분에 상장하는 금액으로 가상자산의 대표대응소득으로 정하는 금액으로 한다.\\n1) 제126조제3항제3호에 따라 가상자산의 필요용량이 확정되는 경우: 지급금이익의 100분의 10에 해당하는 금액과 제126조제3항제3호에 따라 가상자산의 필요용량이 확정되지 않는 경우: 지급금이익의 100분의 10\\n2) 제126조제3항제4호에 따른 가상자산이 필요용량이 확정되지 않는 경우: 지급금이익의 100분의 20\\n차. 가구 및 가축 외의 기타소득: 지급금이익(제126조제12조에 따른 금액 - 부상 등에 대해서는 같은 금액에 따라 예산 금액으로 한다) 100분의 20\\n상기 <2022. 12. 31.>\\n4. 제119조에 규정하는 국내배선소득의 지급되는 경우에 그 지급자가 국내에 주소, 거소, 본점, 지사우소 등을 국내내사함법 제4조에 규정된 국내사무장으로 포함한다는 경우에는 그 지급자가 해당 국내배선소득을 국내에서 지급하는 것으로 보고 제119조를 적용한다. <개정 2010. 12. 27.>\\n법제처 141 국가법령정보센터\\n소 득 세 번'), Document(id='7860c617-9818-48c2-9735-b0ddd743bb3a', metadata={'source': './documents/income_tax.txt'}, page_content='소득세법\\n[시행 2024. 7. 1.] [법률 제19933호, 2023. 12. 31., 일부개정]\\n기획재정부 (세제실세제과) 044-215-4312\\n기획재정부 (소득세제과) 044-215-4216\\n기획재정부 (음식세원과) 044-215-4233\\n기획재정부 (소득세과사원조사팀) 044-215-4217  \\n\\n제1장 총칙\\n제1조(목적)\\n이 법은 개인의 소득에 대하여 소득의 성격과 납세자의 부담능력 등에 따라 적정하게 과세함으로써 조세부담의 형평을 도모하고 재정수입의 원활한 조달에 이바지함을 목적으로 한다.\\n[본조신설 2009. 12. 31.]\\n[종전 제1조는 제2조로 이동 2009. 12. 31.]\\n제2조(정의)\\n① 이 법에서 사용하는 용어의 뜻은 다음과 같다. <개정 2010. 12. 27, 2014. 12. 23, 2018. 12. 31.>\\n1. \"거주자\"란 국내에 주소를 두거나 183일 이상 거소(居所)를 둔 개인을 말한다.\\n2. \"비거주자\"란 거주자가 아닌 개인을 말한다.\\n3. \"국내법인\"이란 법인세법 제2조제1호에 따른 내국법인을 말한다.\\n4. \"외국법인\"이란 법인세법 제2조제3호에 따른 외국법인을 말한다.\\n5. \"사업자\"란 사업소득이 있는 거주자를 말한다.\\n6. 제1항에 따른 주소·거소와 비거주자의 구분은 대통령령으로 정한다.\\n[본조신설 2009. 12. 31.]\\n제3조(납세의무)\\n다음 각 호의 어느 하나에 해당하는 개인은 이 법에 따라 각자의 소득에 대한 소득세를 납부할 의무를 진다.\\n1. 거주자\\n2. 비거주자\\n3. 법인\\n4. 외국법인은 국내사업소(출場所, 그 밖에 이에 준하는 것을 포함한다. 이하 같다)\\n5. 그 밖에 법에 의해 정하는 원천징수의무자\\n3. \"국세기본법\" 제33조제1항에 따른 법인이 아닌 단체 같은 제정법에 따른 법인은 보는 단체로 본다. \"법인은 보는 단체\"라 한다. 외의 법인이 아닌 단체는 국내에 주사무소 또는 사업의 실질적 관리장소를 두는 경우에는 1거래자로 본다. 그 밖에 각 단체마다 이 법을 적용한다. 다만, 다음 각 호의 어느 하나에 해당하는 경우에는 소득을 법인세법 제5조에 따른 법인 가운데 \"법인세법\"에 의하는 경우에도 법인의 소득세법에 따라 각 부문에 대한 법인의 납부할 의무를 진다. <개정 2010. 12. 27, 2013. 1. 1, 2018. 12. 31.>\\n6. 구성원 중 이의 원천의무를 정해져 있고 해당 구성원별로 이의 분배비율을 확인한 경우\\n7. 구성원 간 이의 분배비율이 정해져 있지 아니하나 사실상 구성원별 이의 분배비율로 확인되는 경우\\n제3항에도 불구하고 해당 단체의 전체 구성원 중 일부 구성원 분배비율이 확인되더라도 일부 구성원에 이의 분배되는 것으로 확인되는 경우에 다음 각 호의 사항에 따라 소득세 또는 법인세를 납부할 의무를 진다. <신설 2018. 12. 31.>\\n\\n법제처 1\\n소통세편')]\n",
      "check_doc_relevance: None\n",
      "rewrite: \"역삼역 근처 맛집 추천 및 정보\"\n",
      "web_search: No search results found for '\"역삼역 근처 맛집 추천 및 정보\"'. Suggestions: Try a more detailed search using 'advanced' search_depth. Try modifying your search parameters with one of these approaches.\n",
      "generate: 소득세법 (XX조)에 따르면, 역삼역 근처 맛집 추천 및 정보에 대한 질문은 소득세법과는 관련이 없는 내용입니다. 소득세법은 주로 개인의 소득에 대한 과세 및 납세에 관한 내용을 다루고 있습니다. 따라서, 본 질문에 대한 답변은 소득세법 전문가의 업무 범위를 벗어납니다. 맛집 추천 및 정보를 원하신다면, 여행이나 음식 관련 커뮤니티나 인터넷 검색을 통해 더 정확한 정보를 얻으실 수 있을 것입니다.\n"
     ]
    },
    {
     "data": {
      "text/plain": [
       "{'query': '\"역삼역 근처 맛집 추천 및 정보\"',\n",
       " 'context': 'No search results found for \\'\"역삼역 근처 맛집 추천 및 정보\"\\'. Suggestions: Try a more detailed search using \\'advanced\\' search_depth. Try modifying your search parameters with one of these approaches.',\n",
       " 'answer': '소득세법 (XX조)에 따르면, 역삼역 근처 맛집 추천 및 정보에 대한 질문은 소득세법과는 관련이 없는 내용입니다. 소득세법은 주로 개인의 소득에 대한 과세 및 납세에 관한 내용을 다루고 있습니다. 따라서, 본 질문에 대한 답변은 소득세법 전문가의 업무 범위를 벗어납니다. 맛집 추천 및 정보를 원하신다면, 여행이나 음식 관련 커뮤니티나 인터넷 검색을 통해 더 정확한 정보를 얻으실 수 있을 것입니다.'}"
      ]
     },
     "execution_count": 12,
     "metadata": {},
     "output_type": "execute_result"
    }
   ],
   "source": [
    "query = \"역삼역 맛집을 추천해주세요.\"\n",
    "initial_state = {'query': query}\n",
    "graph.invoke(initial_state)"
   ]
  },
  {
   "cell_type": "code",
   "execution_count": null,
   "id": "a7a410b5",
   "metadata": {},
   "outputs": [],
   "source": [
    "# web-serach를 위한 rewrite는 사실 필요가 없을 수 있다\n",
    "# 서비스를 만들 때 이 노드가 꼭 필요한 노드인가 고민하는 것은 중요하다!!"
   ]
  }
 ],
 "metadata": {
  "kernelspec": {
   "display_name": ".venv",
   "language": "python",
   "name": "python3"
  },
  "language_info": {
   "codemirror_mode": {
    "name": "ipython",
    "version": 3
   },
   "file_extension": ".py",
   "mimetype": "text/x-python",
   "name": "python",
   "nbconvert_exporter": "python",
   "pygments_lexer": "ipython3",
   "version": "3.11.9"
  }
 },
 "nbformat": 4,
 "nbformat_minor": 5
}
