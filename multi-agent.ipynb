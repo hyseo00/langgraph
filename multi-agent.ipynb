{
 "cells": [
  {
   "cell_type": "code",
   "execution_count": null,
   "id": "f76b6c79",
   "metadata": {},
   "outputs": [],
   "source": [
    "# 각각의 노드들은 agent\n",
    "# 1. market 조사\n",
    "# 2. 주식 조사\n",
    "# 3. 재무제표 조사"
   ]
  },
  {
   "cell_type": "code",
   "execution_count": 1,
   "id": "4a0dd8e6",
   "metadata": {},
   "outputs": [
    {
     "data": {
      "text/plain": [
       "True"
      ]
     },
     "execution_count": 1,
     "metadata": {},
     "output_type": "execute_result"
    }
   ],
   "source": [
    "from dotenv import load_dotenv\n",
    "\n",
    "load_dotenv()"
   ]
  },
  {
   "cell_type": "code",
   "execution_count": 2,
   "id": "106d8e9f",
   "metadata": {},
   "outputs": [],
   "source": [
    "from langchain_upstage import ChatUpstage\n",
    "\n",
    "llm = ChatUpstage()"
   ]
  },
  {
   "cell_type": "code",
   "execution_count": null,
   "id": "32bc8c18",
   "metadata": {},
   "outputs": [],
   "source": [
    "from langchain_community.tools.yahoo_finance_news import YahooFinanceNewsTool\n",
    "from langgraph.types import Command\n",
    "from langgraph.graph import MessagesState\n",
    "from typing import Literal\n",
    "from langchain_core.messages import HumanMessage\n",
    "from langchain.agents import create_react_agent\n",
    "\n",
    "\n",
    "# create_react_agent\n",
    "# 생각하는 에이전트\n",
    "# 도구들을 제공을 하면, react_agentr가 스스로 어떤 도구를 쓸지를 판단\n",
    "market_research_agent = create_react_agent(\n",
    "    llm, \n",
    "    tools=[YahooFinanceNewsTool()], \n",
    "    state_modifier='You are a market researcher. Provide fact only not opinion')\n",
    "\n",
    "def marget_research_node(state: MessagesState) -> Command[Literal[\"supervisor\"]]:\n",
    "    result = market_research_agent.invoke(state)\n",
    "    return Command(\n",
    "        update={'messages': [HumanMessage(content=result['messages'][-1].content, name='marget_research')]},\n",
    "        goto='supervisor'\n",
    "    )\n"
   ]
  }
 ],
 "metadata": {
  "kernelspec": {
   "display_name": ".venv",
   "language": "python",
   "name": "python3"
  },
  "language_info": {
   "codemirror_mode": {
    "name": "ipython",
    "version": 3
   },
   "file_extension": ".py",
   "mimetype": "text/x-python",
   "name": "python",
   "nbconvert_exporter": "python",
   "pygments_lexer": "ipython3",
   "version": "3.11.9"
  }
 },
 "nbformat": 4,
 "nbformat_minor": 5
}
