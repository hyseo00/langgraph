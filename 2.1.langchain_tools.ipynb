{
 "cells": [
  {
   "cell_type": "code",
   "execution_count": 1,
   "id": "a631accd",
   "metadata": {},
   "outputs": [
    {
     "data": {
      "text/plain": [
       "True"
      ]
     },
     "execution_count": 1,
     "metadata": {},
     "output_type": "execute_result"
    }
   ],
   "source": [
    "from dotenv import load_dotenv\n",
    "\n",
    "load_dotenv()"
   ]
  },
  {
   "cell_type": "code",
   "execution_count": 2,
   "id": "8d267d6a",
   "metadata": {},
   "outputs": [],
   "source": [
    "from langchain_upstage import ChatUpstage\n",
    "\n",
    "llm = ChatUpstage()"
   ]
  },
  {
   "cell_type": "code",
   "execution_count": 3,
   "id": "f8f82650",
   "metadata": {},
   "outputs": [],
   "source": [
    "from langchain_core.tools import tool\n",
    "\n",
    "@tool\n",
    "def add(a: int, b: int) -> int:\n",
    "    \"\"\"숫자 a와 b를 더합니다.\"\"\"\n",
    "    return a + b\n",
    "\n",
    "@tool\n",
    "def multiply(a: int, b: int) -> int:\n",
    "    \"\"\"숫자 a와 b를 곱합니다.\"\"\"\n",
    "    return a * b"
   ]
  },
  {
   "cell_type": "code",
   "execution_count": 7,
   "id": "97d72690",
   "metadata": {},
   "outputs": [
    {
     "data": {
      "text/plain": [
       "ToolMessage(content='15', name='multiply', tool_call_id='a1cb0e01-0e82-46bf-86f3-dd49eb5bbb96')"
      ]
     },
     "execution_count": 7,
     "metadata": {},
     "output_type": "execute_result"
    }
   ],
   "source": [
    "query = '3 곱하기 5는?'\n",
    "\n",
    "llm_with_tools = llm.bind_tools([add, multiply])\n",
    "\n",
    "result = llm_with_tools.invoke(query)\n",
    "\n",
    "result.tool_calls\n",
    "\n",
    "# [{'name': 'multiply',\n",
    "#   'args': {'a': 3, 'b': 5},\n",
    "#   'id': 'call_vemS0UHHfNKkdHCbI01fgUwt',\n",
    "#   'type': 'tool_call'}]\n",
    "\n",
    "tool_message = multiply.invoke(result.tool_calls[0])\n",
    "tool_message\n"
   ]
  },
  {
   "cell_type": "code",
   "execution_count": null,
   "id": "47baa37d",
   "metadata": {},
   "outputs": [
    {
     "data": {
      "text/plain": [
       "AIMessage(content='3 곱하기 5는 15입니다.', additional_kwargs={'refusal': None}, response_metadata={'token_usage': {'completion_tokens': 12, 'prompt_tokens': 398, 'total_tokens': 410, 'completion_tokens_details': None, 'prompt_tokens_details': None}, 'model_name': 'solar-mini-250422', 'system_fingerprint': None, 'id': 'dd65480e-89c1-4c9a-9249-65b45ff5b6fe', 'service_tier': None, 'finish_reason': 'tool_calls', 'logprobs': None}, id='run--630dfeb6-64d5-4f42-b4b6-b902d74ff132-0', usage_metadata={'input_tokens': 398, 'output_tokens': 12, 'total_tokens': 410, 'input_token_details': {}, 'output_token_details': {}})"
      ]
     },
     "execution_count": 6,
     "metadata": {},
     "output_type": "execute_result"
    }
   ],
   "source": [
    "from typing import Sequence\n",
    "\n",
    "from langchain_core.messages import AnyMessage, HumanMessage\n",
    "\n",
    "# 1. llm에 tools를 bind\n",
    "# 2. llm_with_tools와 tool로 message_list를 채워넣음\n",
    "# 3. llm_with_tools를 message_list로 invoke\n",
    "human_message = HumanMessage(query)\n",
    "message_list: Sequence[AnyMessage] = [human_message] \n",
    "\n",
    "ai_message = llm_with_tools.invoke(message_list)\n",
    "message_list.append(ai_message)\n",
    "\n",
    "# ai_message.tool_calls[0]에는 args 정보가 들어있다.\n",
    "tool_message = multiply.invoke(ai_message.tool_calls[0])\n",
    "message_list.append(tool_message)\n",
    "\n",
    "# message_list\n",
    "# 1. HumanMessage: query\n",
    "# 2. AIMessage: 사용해야하는 tool과 args 정보가 담겨있다.\n",
    "# 3. TollMessage: 결과값이 담겨있다.\n",
    "\n",
    "llm_with_tools.invoke(message_list)"
   ]
  },
  {
   "cell_type": "code",
   "execution_count": null,
   "id": "0099f4f7",
   "metadata": {},
   "outputs": [],
   "source": []
  }
 ],
 "metadata": {
  "kernelspec": {
   "display_name": ".venv",
   "language": "python",
   "name": "python3"
  },
  "language_info": {
   "codemirror_mode": {
    "name": "ipython",
    "version": 3
   },
   "file_extension": ".py",
   "mimetype": "text/x-python",
   "name": "python",
   "nbconvert_exporter": "python",
   "pygments_lexer": "ipython3",
   "version": "3.11.9"
  }
 },
 "nbformat": 4,
 "nbformat_minor": 5
}
