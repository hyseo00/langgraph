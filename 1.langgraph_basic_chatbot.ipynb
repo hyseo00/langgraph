{
 "cells": [
  {
   "cell_type": "code",
   "execution_count": 1,
   "id": "6c2dc711",
   "metadata": {},
   "outputs": [
    {
     "data": {
      "text/plain": [
       "True"
      ]
     },
     "execution_count": 1,
     "metadata": {},
     "output_type": "execute_result"
    }
   ],
   "source": [
    "from dotenv import load_dotenv\n",
    "\n",
    "load_dotenv()"
   ]
  },
  {
   "cell_type": "code",
   "execution_count": null,
   "id": "329e7dd5",
   "metadata": {},
   "outputs": [],
   "source": [
    "# langchain\n",
    "from langchain_upstage import ChatUpstage\n",
    "\n",
    "query = \"인프런에는 어떤 강의가 있나요?\"\n",
    "\n",
    "llm = ChatUpstage()\n",
    "llm.invoke(query)"
   ]
  },
  {
   "cell_type": "markdown",
   "id": "df882be1",
   "metadata": {},
   "source": [
    "### 1. state, graph_builder 정의"
   ]
  },
  {
   "cell_type": "code",
   "execution_count": 4,
   "id": "14221445",
   "metadata": {},
   "outputs": [],
   "source": [
    "# langgraph\n",
    "from typing import Annotated\n",
    "from typing_extensions import TypedDict\n",
    "\n",
    "from langgraph.graph.message import add_messages\n",
    "from langchain_core.messages import AnyMessage\n",
    "from langgraph.graph import StateGraph\n",
    "\n",
    "class AgentState(TypedDict):\n",
    "    messages: list[Annotated[AnyMessage, add_messages]]\n",
    "    \n",
    "graph_builder = StateGraph(AgentState)"
   ]
  },
  {
   "cell_type": "code",
   "execution_count": 5,
   "id": "47158ded",
   "metadata": {},
   "outputs": [],
   "source": [
    "from langchain_upstage import ChatUpstage\n",
    "\n",
    "llm = ChatUpstage()\n",
    "\n",
    "def generate(state: AgentState) -> AgentState:\n",
    "    messages = state['messages']\n",
    "    ai_message = llm.invoke(messages)\n",
    "    return {'messages': [ai_message]}"
   ]
  },
  {
   "cell_type": "code",
   "execution_count": 6,
   "id": "3a767362",
   "metadata": {},
   "outputs": [
    {
     "data": {
      "text/plain": [
       "<langgraph.graph.state.StateGraph at 0x196ddccfb90>"
      ]
     },
     "execution_count": 6,
     "metadata": {},
     "output_type": "execute_result"
    }
   ],
   "source": [
    "from langgraph.graph import START,END\n",
    "\n",
    "graph_builder.add_node('generate', generate)"
   ]
  },
  {
   "cell_type": "code",
   "execution_count": 7,
   "id": "16ea4cab",
   "metadata": {},
   "outputs": [
    {
     "data": {
      "text/plain": [
       "<langgraph.graph.state.StateGraph at 0x196ddccfb90>"
      ]
     },
     "execution_count": 7,
     "metadata": {},
     "output_type": "execute_result"
    }
   ],
   "source": [
    "from langgraph.graph import START,END\n",
    "\n",
    "graph_builder.add_edge(START, 'generate')\n",
    "graph_builder.add_edge('generate', END)"
   ]
  },
  {
   "cell_type": "code",
   "execution_count": 8,
   "id": "e64cc885",
   "metadata": {},
   "outputs": [],
   "source": [
    "graph = graph_builder.compile()"
   ]
  },
  {
   "cell_type": "code",
   "execution_count": 9,
   "id": "5ab5d0c1",
   "metadata": {},
   "outputs": [
    {
     "data": {
      "image/png": "[encoded data removed]",
      "text/plain": [
       "<IPython.core.display.Image object>"
      ]
     },
     "metadata": {},
     "output_type": "display_data"
    }
   ],
   "source": [
    "from IPython.display import display, Image\n",
    "\n",
    "display(Image(graph.get_graph().draw_mermaid_png()))"
   ]
  },
  {
   "cell_type": "code",
   "execution_count": 10,
   "id": "119d8ff3",
   "metadata": {},
   "outputs": [
    {
     "data": {
      "text/plain": [
       "{'messages': [AIMessage(content='인프런에는 다양한 분야의 프로그래밍, 디자인, 비즈니스, 그리고 창작 관련 강의가 있습니다. 주요 카테고리는 다음과 같습니다:\\n\\n1. **프로그래밍**: 웹 개발, 모바일 개발, 데이터 과학, 인공지능, 클라우드 컴퓨팅 등 다양한 프로그래밍 언어를 배울 수 있는 강의가 있습니다.\\n\\n2. **디자인**: 웹 디자인, UX/UI 디자인, 그래픽 디자인, 3D 모델링 등 디자인 관련 강의를 제공합니다.\\n\\n3. **비즈니스**: 데이터 분석, 마케팅, 경영, 프로젝트 관리 등 비즈니스 관련 스킬을 키울 수 있는 강의가 있습니다.\\n\\n4. **창작**: 영상 편집, 음악 제작, 글쓰기, 게임 개발 등 창의적인 분야의 강의를 제공합니다.\\n\\n이 외에도 특정 기술이나 도구에 대한 강의도 많이 있습니다. 인프런 홈페이지에서 상세한 카테고리와 강의 목록을 확인할 수 있습니다.', additional_kwargs={'refusal': None}, response_metadata={'token_usage': {'completion_tokens': 184, 'prompt_tokens': 19, 'total_tokens': 203, 'completion_tokens_details': None, 'prompt_tokens_details': None}, 'model_name': 'solar-mini-250422', 'system_fingerprint': None, 'id': '636d38a6-aca9-4ffc-8493-c1e6fefa4a68', 'service_tier': None, 'finish_reason': 'stop', 'logprobs': None}, id='run--1c348588-7b18-4b3f-8f76-e15c7e2f394e-0', usage_metadata={'input_tokens': 19, 'output_tokens': 184, 'total_tokens': 203, 'input_token_details': {}, 'output_token_details': {}})]}"
      ]
     },
     "execution_count": 10,
     "metadata": {},
     "output_type": "execute_result"
    }
   ],
   "source": [
    "from langchain_core.messages import HumanMessage\n",
    "\n",
    "query = \"인프런에는 어떤 강의가 있나요?\"\n",
    "initial_state = {'messages': [HumanMessage(query)]}\n",
    "graph.invoke(initial_state)"
   ]
  }
 ],
 "metadata": {
  "kernelspec": {
   "display_name": ".venv",
   "language": "python",
   "name": "python3"
  },
  "language_info": {
   "codemirror_mode": {
    "name": "ipython",
    "version": 3
   },
   "file_extension": ".py",
   "mimetype": "text/x-python",
   "name": "python",
   "nbconvert_exporter": "python",
   "pygments_lexer": "ipython3",
   "version": "3.11.9"
  }
 },
 "nbformat": 4,
 "nbformat_minor": 5
}
